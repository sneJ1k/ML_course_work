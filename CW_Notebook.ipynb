{
 "cells": [
  {
   "cell_type": "code",
   "execution_count": 69,
   "id": "f28ea235",
   "metadata": {},
   "outputs": [],
   "source": [
    "import pandas as pd\n",
    "import numpy as np\n",
    "import seaborn as sns\n",
    "import plotly.express as px\n",
    "import matplotlib.pyplot as plt\n",
    "from scipy.stats import gaussian_kde\n",
    "\n",
    "from catboost import CatBoostClassifier, Pool\n",
    "from xgboost import XGBClassifier\n",
    "from lightgbm import LGBMClassifier\n",
    "from sklearn.ensemble import RandomForestClassifier\n",
    "from sklearn.preprocessing import LabelEncoder\n",
    "from sklearn.compose import ColumnTransformer\n",
    "from sklearn.pipeline import Pipeline\n",
    "\n",
    "from imblearn.over_sampling import RandomOverSampler\n",
    "from lightautoml.automl.presets.tabular_presets import TabularAutoML, TabularUtilizedAutoML\n",
    "from lightautoml.tasks import Task\n",
    "from sklearn.model_selection import train_test_split, StratifiedKFold\n",
    "from sklearn.multiclass import OneVsRestClassifier\n",
    "from sklearn.preprocessing import label_binarize, OrdinalEncoder\n",
    "from sklearn.feature_selection import mutual_info_classif\n",
    "from sklearn.metrics import (\n",
    "    accuracy_score,\n",
    "    f1_score,\n",
    "    precision_score,\n",
    "    precision_recall_curve,\n",
    "    recall_score,\n",
    "    log_loss,\n",
    "    confusion_matrix,\n",
    "    classification_report,\n",
    "    average_precision_score,\n",
    "    auc\n",
    ")\n",
    "import time\n",
    "import joblib\n",
    "import multiprocessing\n",
    "multiprocessing.set_start_method(\"spawn\", force=True)\n",
    "\n",
    "np.random.seed(0)"
   ]
  },
  {
   "cell_type": "code",
   "execution_count": 70,
   "id": "80b3234a",
   "metadata": {},
   "outputs": [],
   "source": [
    "df = pd.read_csv(\"Dataset_2_DATA.csv\", encoding='cp1251')[lambda df: df['DAGSOORT'] == 1]\n",
    "df_d = pd.read_csv(\"Dataset_2_DESCRIPTION.csv\", encoding='cp1251')"
   ]
  },
  {
   "cell_type": "markdown",
   "id": "6304b86b",
   "metadata": {},
   "source": [
    "## Подготовка данных\n",
    "\n",
    "### 1. Обработка пропущенных значений "
   ]
  },
  {
   "cell_type": "code",
   "execution_count": 71,
   "id": "10608b74",
   "metadata": {},
   "outputs": [
    {
     "name": "stdout",
     "output_type": "stream",
     "text": [
      "Есть ли NaN в датафрейме? False\n",
      "KREISDUUR        object\n",
      "PARKEERKOSTEN    object\n",
      "dtype: object\n",
      "Уникальные значения в KREISDUUR:\n",
      "['11' '8' '7' '5' '4' '3' '10' '6' '2' '9' ' ' '1']\n",
      "Уникальные значения в PARKEERKOSTEN:\n",
      "['0' '9' '3' '11' ' ' '13' '5' '4' '14' '12' '16' '10' '7' '2' '6' '1' '8']\n"
     ]
    }
   ],
   "source": [
    "# Проверяем датафрейм на содержание NaN-значений\n",
    "has_any_missing = df.isna().any().any()\n",
    "print(\"Есть ли NaN в датафрейме?\", has_any_missing)\n",
    "\n",
    "# Может показаться, что пропусков нет, но если проверить столбцы на соотвествие типу object можно понять,\n",
    "# что два столбца потенциально могут содержать \"нетипичные\" пропуски.\n",
    "print(df.dtypes[df.dtypes != 'int64'])\n",
    "\n",
    "# Проверим уникальные значения столбцов KREISDUUR и PARKEERKOSTEN\n",
    "for col in df.select_dtypes(include=['object']).columns:\n",
    "    print(f\"Уникальные значения в {col}:\")\n",
    "    print(df[col].unique())\n",
    "\n",
    "# Бинго! Пропуски в наборе данных обозначаются одним пробелом(' ')"
   ]
  },
  {
   "cell_type": "code",
   "execution_count": 72,
   "id": "83bb2fb8",
   "metadata": {},
   "outputs": [],
   "source": [
    "# Заменяем пропуски на NaN-значение\n",
    "df = df.replace({' ': np.nan})\n",
    "\n",
    "# Функция для замены пропусков модой (или средним) значением\n",
    "def fill_with_mode(group):\n",
    "    mode_vals = group.mode()\n",
    "    if not mode_vals.empty:\n",
    "        return group.fillna(mode_vals.iloc[0])\n",
    "    return group.fillna(group.mean())\n",
    "\n",
    "# Заменяем пропуски в найденных столбцах\n",
    "cols_to_fill = ['KREISDUUR', 'PARKEERKOSTEN']\n",
    "for col in cols_to_fill:\n",
    "    df[col] = df.groupby('PERSID')[col].transform(fill_with_mode)"
   ]
  },
  {
   "cell_type": "markdown",
   "id": "24ff5c63",
   "metadata": {},
   "source": [
    "### 2. Удаление дубликатов"
   ]
  },
  {
   "cell_type": "code",
   "execution_count": 73,
   "id": "c229d9f1",
   "metadata": {},
   "outputs": [
    {
     "data": {
      "text/html": [
       "<div>\n",
       "<style scoped>\n",
       "    .dataframe tbody tr th:only-of-type {\n",
       "        vertical-align: middle;\n",
       "    }\n",
       "\n",
       "    .dataframe tbody tr th {\n",
       "        vertical-align: top;\n",
       "    }\n",
       "\n",
       "    .dataframe thead th {\n",
       "        text-align: right;\n",
       "    }\n",
       "</style>\n",
       "<table border=\"1\" class=\"dataframe\">\n",
       "  <thead>\n",
       "    <tr style=\"text-align: right;\">\n",
       "      <th></th>\n",
       "      <th>HHID</th>\n",
       "      <th>PERSID</th>\n",
       "      <th>VPLID</th>\n",
       "      <th>RitID</th>\n",
       "      <th>HH_VALID</th>\n",
       "      <th>P_VALID</th>\n",
       "      <th>KHVM</th>\n",
       "      <th>WEGGEWEEST</th>\n",
       "      <th>VERTREKP</th>\n",
       "      <th>AANTVPL</th>\n",
       "      <th>...</th>\n",
       "      <th>HHAUTO_N</th>\n",
       "      <th>HHAUTO</th>\n",
       "      <th>HHBESTEL</th>\n",
       "      <th>HHHYBRID</th>\n",
       "      <th>HHMOTOR</th>\n",
       "      <th>HHBROM</th>\n",
       "      <th>HHSNOR</th>\n",
       "      <th>HHFIETS</th>\n",
       "      <th>HHVOUWFIETS</th>\n",
       "      <th>HHEBIKE</th>\n",
       "    </tr>\n",
       "  </thead>\n",
       "  <tbody>\n",
       "    <tr>\n",
       "      <th>0</th>\n",
       "      <td>30055622</td>\n",
       "      <td>3005562201</td>\n",
       "      <td>13957101</td>\n",
       "      <td>1395710101</td>\n",
       "      <td>2</td>\n",
       "      <td>3</td>\n",
       "      <td>2</td>\n",
       "      <td>1</td>\n",
       "      <td>2</td>\n",
       "      <td>2</td>\n",
       "      <td>...</td>\n",
       "      <td>3</td>\n",
       "      <td>1</td>\n",
       "      <td>0</td>\n",
       "      <td>0</td>\n",
       "      <td>1</td>\n",
       "      <td>0</td>\n",
       "      <td>0</td>\n",
       "      <td>1</td>\n",
       "      <td>0</td>\n",
       "      <td>1</td>\n",
       "    </tr>\n",
       "    <tr>\n",
       "      <th>1</th>\n",
       "      <td>30055622</td>\n",
       "      <td>3005562201</td>\n",
       "      <td>13957102</td>\n",
       "      <td>1395710201</td>\n",
       "      <td>2</td>\n",
       "      <td>3</td>\n",
       "      <td>2</td>\n",
       "      <td>1</td>\n",
       "      <td>2</td>\n",
       "      <td>2</td>\n",
       "      <td>...</td>\n",
       "      <td>3</td>\n",
       "      <td>1</td>\n",
       "      <td>0</td>\n",
       "      <td>0</td>\n",
       "      <td>1</td>\n",
       "      <td>0</td>\n",
       "      <td>0</td>\n",
       "      <td>1</td>\n",
       "      <td>0</td>\n",
       "      <td>1</td>\n",
       "    </tr>\n",
       "    <tr>\n",
       "      <th>2</th>\n",
       "      <td>30055622</td>\n",
       "      <td>3005562201</td>\n",
       "      <td>13957201</td>\n",
       "      <td>1395720101</td>\n",
       "      <td>2</td>\n",
       "      <td>3</td>\n",
       "      <td>1</td>\n",
       "      <td>1</td>\n",
       "      <td>2</td>\n",
       "      <td>4</td>\n",
       "      <td>...</td>\n",
       "      <td>3</td>\n",
       "      <td>1</td>\n",
       "      <td>0</td>\n",
       "      <td>0</td>\n",
       "      <td>1</td>\n",
       "      <td>0</td>\n",
       "      <td>0</td>\n",
       "      <td>1</td>\n",
       "      <td>0</td>\n",
       "      <td>1</td>\n",
       "    </tr>\n",
       "    <tr>\n",
       "      <th>3</th>\n",
       "      <td>30055622</td>\n",
       "      <td>3005562201</td>\n",
       "      <td>13957202</td>\n",
       "      <td>1395720201</td>\n",
       "      <td>2</td>\n",
       "      <td>3</td>\n",
       "      <td>1</td>\n",
       "      <td>1</td>\n",
       "      <td>2</td>\n",
       "      <td>4</td>\n",
       "      <td>...</td>\n",
       "      <td>3</td>\n",
       "      <td>1</td>\n",
       "      <td>0</td>\n",
       "      <td>0</td>\n",
       "      <td>1</td>\n",
       "      <td>0</td>\n",
       "      <td>0</td>\n",
       "      <td>1</td>\n",
       "      <td>0</td>\n",
       "      <td>1</td>\n",
       "    </tr>\n",
       "    <tr>\n",
       "      <th>7</th>\n",
       "      <td>30356310</td>\n",
       "      <td>3035631001</td>\n",
       "      <td>17204101</td>\n",
       "      <td>1720410101</td>\n",
       "      <td>2</td>\n",
       "      <td>3</td>\n",
       "      <td>8</td>\n",
       "      <td>1</td>\n",
       "      <td>2</td>\n",
       "      <td>1</td>\n",
       "      <td>...</td>\n",
       "      <td>2</td>\n",
       "      <td>1</td>\n",
       "      <td>0</td>\n",
       "      <td>0</td>\n",
       "      <td>0</td>\n",
       "      <td>0</td>\n",
       "      <td>0</td>\n",
       "      <td>0</td>\n",
       "      <td>0</td>\n",
       "      <td>1</td>\n",
       "    </tr>\n",
       "    <tr>\n",
       "      <th>...</th>\n",
       "      <td>...</td>\n",
       "      <td>...</td>\n",
       "      <td>...</td>\n",
       "      <td>...</td>\n",
       "      <td>...</td>\n",
       "      <td>...</td>\n",
       "      <td>...</td>\n",
       "      <td>...</td>\n",
       "      <td>...</td>\n",
       "      <td>...</td>\n",
       "      <td>...</td>\n",
       "      <td>...</td>\n",
       "      <td>...</td>\n",
       "      <td>...</td>\n",
       "      <td>...</td>\n",
       "      <td>...</td>\n",
       "      <td>...</td>\n",
       "      <td>...</td>\n",
       "      <td>...</td>\n",
       "      <td>...</td>\n",
       "      <td>...</td>\n",
       "    </tr>\n",
       "    <tr>\n",
       "      <th>7304</th>\n",
       "      <td>30862294</td>\n",
       "      <td>3086229401</td>\n",
       "      <td>19042102</td>\n",
       "      <td>1904210201</td>\n",
       "      <td>2</td>\n",
       "      <td>3</td>\n",
       "      <td>1</td>\n",
       "      <td>1</td>\n",
       "      <td>2</td>\n",
       "      <td>5</td>\n",
       "      <td>...</td>\n",
       "      <td>1</td>\n",
       "      <td>1</td>\n",
       "      <td>0</td>\n",
       "      <td>0</td>\n",
       "      <td>0</td>\n",
       "      <td>0</td>\n",
       "      <td>0</td>\n",
       "      <td>1</td>\n",
       "      <td>0</td>\n",
       "      <td>0</td>\n",
       "    </tr>\n",
       "    <tr>\n",
       "      <th>7306</th>\n",
       "      <td>30862294</td>\n",
       "      <td>3086229401</td>\n",
       "      <td>19042103</td>\n",
       "      <td>1904210301</td>\n",
       "      <td>2</td>\n",
       "      <td>3</td>\n",
       "      <td>7</td>\n",
       "      <td>1</td>\n",
       "      <td>2</td>\n",
       "      <td>5</td>\n",
       "      <td>...</td>\n",
       "      <td>1</td>\n",
       "      <td>1</td>\n",
       "      <td>0</td>\n",
       "      <td>0</td>\n",
       "      <td>0</td>\n",
       "      <td>0</td>\n",
       "      <td>0</td>\n",
       "      <td>1</td>\n",
       "      <td>0</td>\n",
       "      <td>0</td>\n",
       "    </tr>\n",
       "    <tr>\n",
       "      <th>7307</th>\n",
       "      <td>30862294</td>\n",
       "      <td>3086229401</td>\n",
       "      <td>19042104</td>\n",
       "      <td>1904210401</td>\n",
       "      <td>2</td>\n",
       "      <td>3</td>\n",
       "      <td>7</td>\n",
       "      <td>1</td>\n",
       "      <td>2</td>\n",
       "      <td>5</td>\n",
       "      <td>...</td>\n",
       "      <td>1</td>\n",
       "      <td>1</td>\n",
       "      <td>0</td>\n",
       "      <td>0</td>\n",
       "      <td>0</td>\n",
       "      <td>0</td>\n",
       "      <td>0</td>\n",
       "      <td>1</td>\n",
       "      <td>0</td>\n",
       "      <td>0</td>\n",
       "    </tr>\n",
       "    <tr>\n",
       "      <th>7308</th>\n",
       "      <td>30862294</td>\n",
       "      <td>3086229401</td>\n",
       "      <td>19042201</td>\n",
       "      <td>1904220101</td>\n",
       "      <td>2</td>\n",
       "      <td>3</td>\n",
       "      <td>1</td>\n",
       "      <td>1</td>\n",
       "      <td>2</td>\n",
       "      <td>3</td>\n",
       "      <td>...</td>\n",
       "      <td>1</td>\n",
       "      <td>1</td>\n",
       "      <td>0</td>\n",
       "      <td>0</td>\n",
       "      <td>0</td>\n",
       "      <td>0</td>\n",
       "      <td>0</td>\n",
       "      <td>1</td>\n",
       "      <td>0</td>\n",
       "      <td>0</td>\n",
       "    </tr>\n",
       "    <tr>\n",
       "      <th>7309</th>\n",
       "      <td>30862294</td>\n",
       "      <td>3086229401</td>\n",
       "      <td>19042105</td>\n",
       "      <td>1904210501</td>\n",
       "      <td>2</td>\n",
       "      <td>3</td>\n",
       "      <td>1</td>\n",
       "      <td>1</td>\n",
       "      <td>2</td>\n",
       "      <td>5</td>\n",
       "      <td>...</td>\n",
       "      <td>1</td>\n",
       "      <td>1</td>\n",
       "      <td>0</td>\n",
       "      <td>0</td>\n",
       "      <td>0</td>\n",
       "      <td>0</td>\n",
       "      <td>0</td>\n",
       "      <td>1</td>\n",
       "      <td>0</td>\n",
       "      <td>0</td>\n",
       "    </tr>\n",
       "  </tbody>\n",
       "</table>\n",
       "<p>5700 rows × 56 columns</p>\n",
       "</div>"
      ],
      "text/plain": [
       "          HHID      PERSID     VPLID       RitID  HH_VALID  P_VALID  KHVM  \\\n",
       "0     30055622  3005562201  13957101  1395710101         2        3     2   \n",
       "1     30055622  3005562201  13957102  1395710201         2        3     2   \n",
       "2     30055622  3005562201  13957201  1395720101         2        3     1   \n",
       "3     30055622  3005562201  13957202  1395720201         2        3     1   \n",
       "7     30356310  3035631001  17204101  1720410101         2        3     8   \n",
       "...        ...         ...       ...         ...       ...      ...   ...   \n",
       "7304  30862294  3086229401  19042102  1904210201         2        3     1   \n",
       "7306  30862294  3086229401  19042103  1904210301         2        3     7   \n",
       "7307  30862294  3086229401  19042104  1904210401         2        3     7   \n",
       "7308  30862294  3086229401  19042201  1904220101         2        3     1   \n",
       "7309  30862294  3086229401  19042105  1904210501         2        3     1   \n",
       "\n",
       "      WEGGEWEEST  VERTREKP  AANTVPL  ...  HHAUTO_N  HHAUTO  HHBESTEL  \\\n",
       "0              1         2        2  ...         3       1         0   \n",
       "1              1         2        2  ...         3       1         0   \n",
       "2              1         2        4  ...         3       1         0   \n",
       "3              1         2        4  ...         3       1         0   \n",
       "7              1         2        1  ...         2       1         0   \n",
       "...          ...       ...      ...  ...       ...     ...       ...   \n",
       "7304           1         2        5  ...         1       1         0   \n",
       "7306           1         2        5  ...         1       1         0   \n",
       "7307           1         2        5  ...         1       1         0   \n",
       "7308           1         2        3  ...         1       1         0   \n",
       "7309           1         2        5  ...         1       1         0   \n",
       "\n",
       "      HHHYBRID  HHMOTOR  HHBROM  HHSNOR  HHFIETS  HHVOUWFIETS  HHEBIKE  \n",
       "0            0        1       0       0        1            0        1  \n",
       "1            0        1       0       0        1            0        1  \n",
       "2            0        1       0       0        1            0        1  \n",
       "3            0        1       0       0        1            0        1  \n",
       "7            0        0       0       0        0            0        1  \n",
       "...        ...      ...     ...     ...      ...          ...      ...  \n",
       "7304         0        0       0       0        1            0        0  \n",
       "7306         0        0       0       0        1            0        0  \n",
       "7307         0        0       0       0        1            0        0  \n",
       "7308         0        0       0       0        1            0        0  \n",
       "7309         0        0       0       0        1            0        0  \n",
       "\n",
       "[5700 rows x 56 columns]"
      ]
     },
     "metadata": {},
     "output_type": "display_data"
    },
    {
     "name": "stdout",
     "output_type": "stream",
     "text": [
      "<class 'pandas.core.frame.DataFrame'>\n",
      "Index: 5700 entries, 0 to 7309\n",
      "Data columns (total 56 columns):\n",
      " #   Column                   Non-Null Count  Dtype \n",
      "---  ------                   --------------  ----- \n",
      " 0   HHID                     5700 non-null   int64 \n",
      " 1   PERSID                   5700 non-null   int64 \n",
      " 2   VPLID                    5700 non-null   int64 \n",
      " 3   RitID                    5700 non-null   int64 \n",
      " 4   HH_VALID                 5700 non-null   int64 \n",
      " 5   P_VALID                  5700 non-null   int64 \n",
      " 6   KHVM                     5700 non-null   int64 \n",
      " 7   WEGGEWEEST               5700 non-null   int64 \n",
      " 8   VERTREKP                 5700 non-null   int64 \n",
      " 9   AANTVPL                  5700 non-null   int64 \n",
      " 10  VPLDAGNR                 5700 non-null   int64 \n",
      " 11  VERPL                    5700 non-null   int64 \n",
      " 12  VERPLNR                  5700 non-null   int64 \n",
      " 13  TOER                     5700 non-null   int64 \n",
      " 14  TOER_TYPE                5700 non-null   int64 \n",
      " 15  AANTRIT                  5700 non-null   int64 \n",
      " 16  KMOTIEF                  5700 non-null   int64 \n",
      " 17  VERTPROV                 5700 non-null   int64 \n",
      " 18  AANKPROV                 5700 non-null   int64 \n",
      " 19  KAFSTV                   5700 non-null   int64 \n",
      " 20  KVERTTIJD                5700 non-null   int64 \n",
      " 21  KREISDUUR                5700 non-null   object\n",
      " 22  ROLAUTO                  5700 non-null   int64 \n",
      " 23  PARKEERKOSTEN            5700 non-null   object\n",
      " 24  VERTRAGING               5700 non-null   int64 \n",
      " 25  DAGSOORT                 5700 non-null   int64 \n",
      " 26  OORDEEL_AUTO             5700 non-null   int64 \n",
      " 27  OORDEEL_TREIN            5700 non-null   int64 \n",
      " 28  OORDEEL_BTM              5700 non-null   int64 \n",
      " 29  OORDEEL_FIETS            5700 non-null   int64 \n",
      " 30  OORDEEL_BROMMER          5700 non-null   int64 \n",
      " 31  OORDEEL_LOPEN            5700 non-null   int64 \n",
      " 32  GEBRUIK_AUTO_STELLING3   5700 non-null   int64 \n",
      " 33  GEBRUIK_AUTO_STELLING4   5700 non-null   int64 \n",
      " 34  GEBRUIK_TREIN_STELLING3  5700 non-null   int64 \n",
      " 35  GEBRUIK_TREIN_STELLING4  5700 non-null   int64 \n",
      " 36  GEBRUIK_BTM_STELLING3    5700 non-null   int64 \n",
      " 37  GEBRUIK_BTM_STELLING4    5700 non-null   int64 \n",
      " 38  GEBRUIK_FIETS_STELLING2  5700 non-null   int64 \n",
      " 39  GEBRUIK_FIETS_STELLING3  5700 non-null   int64 \n",
      " 40  GEBRUIK_LOPEN_STELLING3  5700 non-null   int64 \n",
      " 41  GEBRUIK_LOPEN_STELLING4  5700 non-null   int64 \n",
      " 42  HHPERS                   5700 non-null   int64 \n",
      " 43  HHSAM                    5700 non-null   int64 \n",
      " 44  N_KIND                   5700 non-null   int64 \n",
      " 45  HHBRUTOINK2_w5           5700 non-null   int64 \n",
      " 46  HHAUTO_N                 5700 non-null   int64 \n",
      " 47  HHAUTO                   5700 non-null   int64 \n",
      " 48  HHBESTEL                 5700 non-null   int64 \n",
      " 49  HHHYBRID                 5700 non-null   int64 \n",
      " 50  HHMOTOR                  5700 non-null   int64 \n",
      " 51  HHBROM                   5700 non-null   int64 \n",
      " 52  HHSNOR                   5700 non-null   int64 \n",
      " 53  HHFIETS                  5700 non-null   int64 \n",
      " 54  HHVOUWFIETS              5700 non-null   int64 \n",
      " 55  HHEBIKE                  5700 non-null   int64 \n",
      "dtypes: int64(54), object(2)\n",
      "memory usage: 2.5+ MB\n",
      "None\n"
     ]
    }
   ],
   "source": [
    "df = df.drop_duplicates()\n",
    "display(df) # Как можно заметить, количество строк не изменилось\n",
    "print(df.info())"
   ]
  },
  {
   "cell_type": "code",
   "execution_count": 74,
   "id": "3f975115",
   "metadata": {},
   "outputs": [
    {
     "data": {
      "image/png": "[encoded data removed]",
      "text/plain": [
       "<Figure size 1200x600 with 1 Axes>"
      ]
     },
     "metadata": {},
     "output_type": "display_data"
    }
   ],
   "source": [
    "labels = {\n",
    "    1: '1.Car as driver',\n",
    "    2: '2.Car as passenger',\n",
    "    3: '3.Train',\n",
    "    4: '4.Bus/tram/metro',\n",
    "    5: '5.Scooter/moped',\n",
    "    6: '6.Bicycle',\n",
    "    7: '7.Walking',\n",
    "    8: '8.Other'\n",
    "}\n",
    "\n",
    "\n",
    "# Подсчет количества измерений для каждого класса\n",
    "class_counts = df['KHVM'].value_counts().sort_index()\n",
    "\n",
    "# Построение гистограммы распределения классов KHVM\n",
    "plt.figure(figsize=(12, 6))\n",
    "sns.countplot(x=df['KHVM'], hue=df['KHVM'], palette='viridis', legend=False)\n",
    "plt.title('Распределение классов KHVM')\n",
    "plt.ylabel('Количество')\n",
    "\n",
    "# Установка пользовательских меток на оси X\n",
    "plt.xticks(ticks=range(len(labels)), labels=[labels[i] for i in range(1, 9)], rotation=45, ha='right')\n",
    "\n",
    "# Добавление текста с количеством измерений над каждым столбцом\n",
    "for i, count in enumerate(class_counts):\n",
    "    plt.text(i, count, str(count), ha='center', va='bottom')\n",
    "\n",
    "plt.grid(True)\n",
    "plt.tight_layout()"
   ]
  },
  {
   "cell_type": "code",
   "execution_count": 75,
   "id": "d751f332",
   "metadata": {},
   "outputs": [
    {
     "data": {
      "text/html": [
       "<div>\n",
       "<style scoped>\n",
       "    .dataframe tbody tr th:only-of-type {\n",
       "        vertical-align: middle;\n",
       "    }\n",
       "\n",
       "    .dataframe tbody tr th {\n",
       "        vertical-align: top;\n",
       "    }\n",
       "\n",
       "    .dataframe thead th {\n",
       "        text-align: right;\n",
       "    }\n",
       "</style>\n",
       "<table border=\"1\" class=\"dataframe\">\n",
       "  <thead>\n",
       "    <tr style=\"text-align: right;\">\n",
       "      <th></th>\n",
       "      <th>HHID</th>\n",
       "      <th>PERSID</th>\n",
       "      <th>VPLID</th>\n",
       "      <th>RitID</th>\n",
       "      <th>HH_VALID</th>\n",
       "      <th>P_VALID</th>\n",
       "      <th>KHVM</th>\n",
       "      <th>WEGGEWEEST</th>\n",
       "      <th>VERTREKP</th>\n",
       "      <th>AANTVPL</th>\n",
       "      <th>...</th>\n",
       "      <th>HHBESTEL</th>\n",
       "      <th>HHHYBRID</th>\n",
       "      <th>HHMOTOR</th>\n",
       "      <th>HHBROM</th>\n",
       "      <th>HHSNOR</th>\n",
       "      <th>HHFIETS</th>\n",
       "      <th>HHVOUWFIETS</th>\n",
       "      <th>HHEBIKE</th>\n",
       "      <th>province_route</th>\n",
       "      <th>travel_duration</th>\n",
       "    </tr>\n",
       "  </thead>\n",
       "  <tbody>\n",
       "    <tr>\n",
       "      <th>0</th>\n",
       "      <td>30055622</td>\n",
       "      <td>3005562201</td>\n",
       "      <td>13957101</td>\n",
       "      <td>1395710101</td>\n",
       "      <td>2</td>\n",
       "      <td>3</td>\n",
       "      <td>2</td>\n",
       "      <td>1</td>\n",
       "      <td>2</td>\n",
       "      <td>2</td>\n",
       "      <td>...</td>\n",
       "      <td>0</td>\n",
       "      <td>0</td>\n",
       "      <td>1</td>\n",
       "      <td>0</td>\n",
       "      <td>0</td>\n",
       "      <td>1</td>\n",
       "      <td>0</td>\n",
       "      <td>1</td>\n",
       "      <td>0_0</td>\n",
       "      <td>120.0</td>\n",
       "    </tr>\n",
       "    <tr>\n",
       "      <th>1</th>\n",
       "      <td>30055622</td>\n",
       "      <td>3005562201</td>\n",
       "      <td>13957102</td>\n",
       "      <td>1395710201</td>\n",
       "      <td>2</td>\n",
       "      <td>3</td>\n",
       "      <td>2</td>\n",
       "      <td>1</td>\n",
       "      <td>2</td>\n",
       "      <td>2</td>\n",
       "      <td>...</td>\n",
       "      <td>0</td>\n",
       "      <td>0</td>\n",
       "      <td>1</td>\n",
       "      <td>0</td>\n",
       "      <td>0</td>\n",
       "      <td>1</td>\n",
       "      <td>0</td>\n",
       "      <td>1</td>\n",
       "      <td>0_0</td>\n",
       "      <td>52.5</td>\n",
       "    </tr>\n",
       "    <tr>\n",
       "      <th>2</th>\n",
       "      <td>30055622</td>\n",
       "      <td>3005562201</td>\n",
       "      <td>13957201</td>\n",
       "      <td>1395720101</td>\n",
       "      <td>2</td>\n",
       "      <td>3</td>\n",
       "      <td>1</td>\n",
       "      <td>1</td>\n",
       "      <td>2</td>\n",
       "      <td>4</td>\n",
       "      <td>...</td>\n",
       "      <td>0</td>\n",
       "      <td>0</td>\n",
       "      <td>1</td>\n",
       "      <td>0</td>\n",
       "      <td>0</td>\n",
       "      <td>1</td>\n",
       "      <td>0</td>\n",
       "      <td>1</td>\n",
       "      <td>0_0</td>\n",
       "      <td>37.5</td>\n",
       "    </tr>\n",
       "    <tr>\n",
       "      <th>3</th>\n",
       "      <td>30055622</td>\n",
       "      <td>3005562201</td>\n",
       "      <td>13957202</td>\n",
       "      <td>1395720201</td>\n",
       "      <td>2</td>\n",
       "      <td>3</td>\n",
       "      <td>1</td>\n",
       "      <td>1</td>\n",
       "      <td>2</td>\n",
       "      <td>4</td>\n",
       "      <td>...</td>\n",
       "      <td>0</td>\n",
       "      <td>0</td>\n",
       "      <td>1</td>\n",
       "      <td>0</td>\n",
       "      <td>0</td>\n",
       "      <td>1</td>\n",
       "      <td>0</td>\n",
       "      <td>1</td>\n",
       "      <td>0_0</td>\n",
       "      <td>22.5</td>\n",
       "    </tr>\n",
       "    <tr>\n",
       "      <th>7</th>\n",
       "      <td>30356310</td>\n",
       "      <td>3035631001</td>\n",
       "      <td>17204101</td>\n",
       "      <td>1720410101</td>\n",
       "      <td>2</td>\n",
       "      <td>3</td>\n",
       "      <td>8</td>\n",
       "      <td>1</td>\n",
       "      <td>2</td>\n",
       "      <td>1</td>\n",
       "      <td>...</td>\n",
       "      <td>0</td>\n",
       "      <td>0</td>\n",
       "      <td>0</td>\n",
       "      <td>0</td>\n",
       "      <td>0</td>\n",
       "      <td>0</td>\n",
       "      <td>0</td>\n",
       "      <td>1</td>\n",
       "      <td>0_0</td>\n",
       "      <td>120.0</td>\n",
       "    </tr>\n",
       "    <tr>\n",
       "      <th>...</th>\n",
       "      <td>...</td>\n",
       "      <td>...</td>\n",
       "      <td>...</td>\n",
       "      <td>...</td>\n",
       "      <td>...</td>\n",
       "      <td>...</td>\n",
       "      <td>...</td>\n",
       "      <td>...</td>\n",
       "      <td>...</td>\n",
       "      <td>...</td>\n",
       "      <td>...</td>\n",
       "      <td>...</td>\n",
       "      <td>...</td>\n",
       "      <td>...</td>\n",
       "      <td>...</td>\n",
       "      <td>...</td>\n",
       "      <td>...</td>\n",
       "      <td>...</td>\n",
       "      <td>...</td>\n",
       "      <td>...</td>\n",
       "      <td>...</td>\n",
       "    </tr>\n",
       "    <tr>\n",
       "      <th>7304</th>\n",
       "      <td>30862294</td>\n",
       "      <td>3086229401</td>\n",
       "      <td>19042102</td>\n",
       "      <td>1904210201</td>\n",
       "      <td>2</td>\n",
       "      <td>3</td>\n",
       "      <td>1</td>\n",
       "      <td>1</td>\n",
       "      <td>2</td>\n",
       "      <td>5</td>\n",
       "      <td>...</td>\n",
       "      <td>0</td>\n",
       "      <td>0</td>\n",
       "      <td>0</td>\n",
       "      <td>0</td>\n",
       "      <td>0</td>\n",
       "      <td>1</td>\n",
       "      <td>0</td>\n",
       "      <td>0</td>\n",
       "      <td>27_20</td>\n",
       "      <td>105.0</td>\n",
       "    </tr>\n",
       "    <tr>\n",
       "      <th>7306</th>\n",
       "      <td>30862294</td>\n",
       "      <td>3086229401</td>\n",
       "      <td>19042103</td>\n",
       "      <td>1904210301</td>\n",
       "      <td>2</td>\n",
       "      <td>3</td>\n",
       "      <td>7</td>\n",
       "      <td>1</td>\n",
       "      <td>2</td>\n",
       "      <td>5</td>\n",
       "      <td>...</td>\n",
       "      <td>0</td>\n",
       "      <td>0</td>\n",
       "      <td>0</td>\n",
       "      <td>0</td>\n",
       "      <td>0</td>\n",
       "      <td>1</td>\n",
       "      <td>0</td>\n",
       "      <td>0</td>\n",
       "      <td>20_20</td>\n",
       "      <td>7.5</td>\n",
       "    </tr>\n",
       "    <tr>\n",
       "      <th>7307</th>\n",
       "      <td>30862294</td>\n",
       "      <td>3086229401</td>\n",
       "      <td>19042104</td>\n",
       "      <td>1904210401</td>\n",
       "      <td>2</td>\n",
       "      <td>3</td>\n",
       "      <td>7</td>\n",
       "      <td>1</td>\n",
       "      <td>2</td>\n",
       "      <td>5</td>\n",
       "      <td>...</td>\n",
       "      <td>0</td>\n",
       "      <td>0</td>\n",
       "      <td>0</td>\n",
       "      <td>0</td>\n",
       "      <td>0</td>\n",
       "      <td>1</td>\n",
       "      <td>0</td>\n",
       "      <td>0</td>\n",
       "      <td>20_20</td>\n",
       "      <td>7.5</td>\n",
       "    </tr>\n",
       "    <tr>\n",
       "      <th>7308</th>\n",
       "      <td>30862294</td>\n",
       "      <td>3086229401</td>\n",
       "      <td>19042201</td>\n",
       "      <td>1904220101</td>\n",
       "      <td>2</td>\n",
       "      <td>3</td>\n",
       "      <td>1</td>\n",
       "      <td>1</td>\n",
       "      <td>2</td>\n",
       "      <td>3</td>\n",
       "      <td>...</td>\n",
       "      <td>0</td>\n",
       "      <td>0</td>\n",
       "      <td>0</td>\n",
       "      <td>0</td>\n",
       "      <td>0</td>\n",
       "      <td>1</td>\n",
       "      <td>0</td>\n",
       "      <td>0</td>\n",
       "      <td>22_20</td>\n",
       "      <td>27.5</td>\n",
       "    </tr>\n",
       "    <tr>\n",
       "      <th>7309</th>\n",
       "      <td>30862294</td>\n",
       "      <td>3086229401</td>\n",
       "      <td>19042105</td>\n",
       "      <td>1904210501</td>\n",
       "      <td>2</td>\n",
       "      <td>3</td>\n",
       "      <td>1</td>\n",
       "      <td>1</td>\n",
       "      <td>2</td>\n",
       "      <td>5</td>\n",
       "      <td>...</td>\n",
       "      <td>0</td>\n",
       "      <td>0</td>\n",
       "      <td>0</td>\n",
       "      <td>0</td>\n",
       "      <td>0</td>\n",
       "      <td>1</td>\n",
       "      <td>0</td>\n",
       "      <td>0</td>\n",
       "      <td>20_22</td>\n",
       "      <td>22.5</td>\n",
       "    </tr>\n",
       "  </tbody>\n",
       "</table>\n",
       "<p>5700 rows × 58 columns</p>\n",
       "</div>"
      ],
      "text/plain": [
       "          HHID      PERSID     VPLID       RitID  HH_VALID  P_VALID  KHVM  \\\n",
       "0     30055622  3005562201  13957101  1395710101         2        3     2   \n",
       "1     30055622  3005562201  13957102  1395710201         2        3     2   \n",
       "2     30055622  3005562201  13957201  1395720101         2        3     1   \n",
       "3     30055622  3005562201  13957202  1395720201         2        3     1   \n",
       "7     30356310  3035631001  17204101  1720410101         2        3     8   \n",
       "...        ...         ...       ...         ...       ...      ...   ...   \n",
       "7304  30862294  3086229401  19042102  1904210201         2        3     1   \n",
       "7306  30862294  3086229401  19042103  1904210301         2        3     7   \n",
       "7307  30862294  3086229401  19042104  1904210401         2        3     7   \n",
       "7308  30862294  3086229401  19042201  1904220101         2        3     1   \n",
       "7309  30862294  3086229401  19042105  1904210501         2        3     1   \n",
       "\n",
       "      WEGGEWEEST  VERTREKP  AANTVPL  ...  HHBESTEL  HHHYBRID  HHMOTOR  HHBROM  \\\n",
       "0              1         2        2  ...         0         0        1       0   \n",
       "1              1         2        2  ...         0         0        1       0   \n",
       "2              1         2        4  ...         0         0        1       0   \n",
       "3              1         2        4  ...         0         0        1       0   \n",
       "7              1         2        1  ...         0         0        0       0   \n",
       "...          ...       ...      ...  ...       ...       ...      ...     ...   \n",
       "7304           1         2        5  ...         0         0        0       0   \n",
       "7306           1         2        5  ...         0         0        0       0   \n",
       "7307           1         2        5  ...         0         0        0       0   \n",
       "7308           1         2        3  ...         0         0        0       0   \n",
       "7309           1         2        5  ...         0         0        0       0   \n",
       "\n",
       "      HHSNOR  HHFIETS  HHVOUWFIETS  HHEBIKE  province_route  travel_duration  \n",
       "0          0        1            0        1             0_0            120.0  \n",
       "1          0        1            0        1             0_0             52.5  \n",
       "2          0        1            0        1             0_0             37.5  \n",
       "3          0        1            0        1             0_0             22.5  \n",
       "7          0        0            0        1             0_0            120.0  \n",
       "...      ...      ...          ...      ...             ...              ...  \n",
       "7304       0        1            0        0           27_20            105.0  \n",
       "7306       0        1            0        0           20_20              7.5  \n",
       "7307       0        1            0        0           20_20              7.5  \n",
       "7308       0        1            0        0           22_20             27.5  \n",
       "7309       0        1            0        0           20_22             22.5  \n",
       "\n",
       "[5700 rows x 58 columns]"
      ]
     },
     "metadata": {},
     "output_type": "display_data"
    }
   ],
   "source": [
    "# 2. Маршрут по провинциям\n",
    "df['province_route'] = df['VERTPROV'].astype(str) + '_' + df['AANKPROV'].astype(str)\n",
    "\n",
    "df['KREISDUUR'] = pd.to_numeric(df['KREISDUUR'], errors='coerce')\n",
    "\n",
    "# 2. Числовая длительность поездки (KREISDUUR)\n",
    "duration_map = {\n",
    "    1: 2.5, 2: 7.5, 3: 12.5, 4: 17.5, 5: 22.5, 6: 27.5, \n",
    "    7: 37.5, 8: 52.5, 9: 75, 10: 105, 11: 120\n",
    "}\n",
    "df['travel_duration'] = df['KREISDUUR'].map(duration_map)\n",
    "\n",
    "display(df)"
   ]
  },
  {
   "cell_type": "markdown",
   "id": "188c67d2",
   "metadata": {},
   "source": [
    "### 3. Приведение типов данных"
   ]
  },
  {
   "cell_type": "code",
   "execution_count": 76,
   "id": "fceccacf",
   "metadata": {},
   "outputs": [
    {
     "name": "stdout",
     "output_type": "stream",
     "text": [
      "<class 'pandas.core.frame.DataFrame'>\n",
      "Index: 5700 entries, 0 to 7309\n",
      "Data columns (total 54 columns):\n",
      " #   Column                   Non-Null Count  Dtype   \n",
      "---  ------                   --------------  -----   \n",
      " 0   HH_VALID                 5700 non-null   category\n",
      " 1   P_VALID                  5700 non-null   category\n",
      " 2   KHVM                     5700 non-null   category\n",
      " 3   WEGGEWEEST               5700 non-null   category\n",
      " 4   VERTREKP                 5700 non-null   category\n",
      " 5   AANTVPL                  5700 non-null   category\n",
      " 6   VPLDAGNR                 5700 non-null   category\n",
      " 7   VERPL                    5700 non-null   category\n",
      " 8   VERPLNR                  5700 non-null   category\n",
      " 9   TOER                     5700 non-null   category\n",
      " 10  TOER_TYPE                5700 non-null   category\n",
      " 11  AANTRIT                  5700 non-null   category\n",
      " 12  KMOTIEF                  5700 non-null   category\n",
      " 13  VERTPROV                 5700 non-null   category\n",
      " 14  AANKPROV                 5700 non-null   category\n",
      " 15  KAFSTV                   5700 non-null   category\n",
      " 16  KVERTTIJD                5700 non-null   category\n",
      " 17  KREISDUUR                5700 non-null   category\n",
      " 18  ROLAUTO                  5700 non-null   category\n",
      " 19  PARKEERKOSTEN            5700 non-null   category\n",
      " 20  VERTRAGING               5700 non-null   category\n",
      " 21  DAGSOORT                 5700 non-null   category\n",
      " 22  OORDEEL_AUTO             5700 non-null   category\n",
      " 23  OORDEEL_TREIN            5700 non-null   category\n",
      " 24  OORDEEL_BTM              5700 non-null   category\n",
      " 25  OORDEEL_FIETS            5700 non-null   category\n",
      " 26  OORDEEL_BROMMER          5700 non-null   category\n",
      " 27  OORDEEL_LOPEN            5700 non-null   category\n",
      " 28  GEBRUIK_AUTO_STELLING3   5700 non-null   category\n",
      " 29  GEBRUIK_AUTO_STELLING4   5700 non-null   category\n",
      " 30  GEBRUIK_TREIN_STELLING3  5700 non-null   category\n",
      " 31  GEBRUIK_TREIN_STELLING4  5700 non-null   category\n",
      " 32  GEBRUIK_BTM_STELLING3    5700 non-null   category\n",
      " 33  GEBRUIK_BTM_STELLING4    5700 non-null   category\n",
      " 34  GEBRUIK_FIETS_STELLING2  5700 non-null   category\n",
      " 35  GEBRUIK_FIETS_STELLING3  5700 non-null   category\n",
      " 36  GEBRUIK_LOPEN_STELLING3  5700 non-null   category\n",
      " 37  GEBRUIK_LOPEN_STELLING4  5700 non-null   category\n",
      " 38  HHPERS                   5700 non-null   category\n",
      " 39  HHSAM                    5700 non-null   category\n",
      " 40  N_KIND                   5700 non-null   category\n",
      " 41  HHBRUTOINK2_w5           5700 non-null   category\n",
      " 42  HHAUTO_N                 5700 non-null   category\n",
      " 43  HHAUTO                   5700 non-null   category\n",
      " 44  HHBESTEL                 5700 non-null   category\n",
      " 45  HHHYBRID                 5700 non-null   category\n",
      " 46  HHMOTOR                  5700 non-null   category\n",
      " 47  HHBROM                   5700 non-null   category\n",
      " 48  HHSNOR                   5700 non-null   category\n",
      " 49  HHFIETS                  5700 non-null   category\n",
      " 50  HHVOUWFIETS              5700 non-null   category\n",
      " 51  HHEBIKE                  5700 non-null   category\n",
      " 52  province_route           5700 non-null   category\n",
      " 53  travel_duration          5700 non-null   float64 \n",
      "dtypes: category(53), float64(1)\n",
      "memory usage: 399.2 KB\n",
      "None\n"
     ]
    }
   ],
   "source": [
    "# Для качественной работы LightAutoML нужно перевести int64-столбцы к category\n",
    "# Получение признаков и их типов\n",
    "var_types = df_d[['Variable', 'Measurement_level']].drop_duplicates()\n",
    "\n",
    "# Список новых фич\n",
    "new_features = ['province_route']\n",
    "\n",
    "# Получение признаков и их типов из метаданных\n",
    "var_types = df_d[['Variable', 'Measurement_level']].drop_duplicates()\n",
    "\n",
    "# Добавим новые фичи как Nominal в var_types\n",
    "new_features_df = pd.DataFrame({\n",
    "    'Variable': new_features,\n",
    "    'Measurement_level': 'Nominal'\n",
    "})\n",
    "var_types = pd.concat([var_types, new_features_df], ignore_index=True).drop_duplicates(subset='Variable')\n",
    "\n",
    "# Сопоставим с колонками датасета\n",
    "matched_columns = pd.DataFrame(df.columns, columns=['Variable'])\n",
    "merged = matched_columns.merge(var_types, on='Variable', how='left')\n",
    "\n",
    "# Делаем списки переменных\n",
    "nominal_cols = list(merged[merged['Measurement_level'] == 'Nominal']['Variable'])\n",
    "ordinal_cols = list(merged[merged['Measurement_level'] == 'Ordinal']['Variable'])\n",
    "scale_cols = list(merged[merged['Measurement_level'] == 'Scale']['Variable'])\n",
    "\n",
    "# Удаление идентификаторов\n",
    "id_cols = ['HHID', 'PERSID', 'VPLID', 'RitID']\n",
    "df = df.drop(columns=id_cols, errors='ignore')\n",
    "\n",
    "# Приведение типов к category для Nominal и Ordinal\n",
    "for col in nominal_cols + ordinal_cols:\n",
    "    if col in df.columns:\n",
    "        df[col] = df[col].astype('category')\n",
    "\n",
    "# Проверка типов\n",
    "print(df.info())"
   ]
  },
  {
   "cell_type": "markdown",
   "id": "38dc021d",
   "metadata": {},
   "source": [
    "#### **Целевая переменная (таргет):**\n",
    "**`KHVM`** — класс основного вида транспорта для поездки. \n",
    "\n",
    "Категории:\n",
    "1. Car as driver (Водитель автомобиля)\n",
    "2. Car as passenger (Пассажир автомобиля)\n",
    "3. Train (Поезд)\n",
    "4. Bus/tram/metro (Автобус/трамвай/метро)\n",
    "5. Scooter/moped (Скутер/мопед)\n",
    "6. Bicycle (Велосипед)\n",
    "7. Walking (Пешком)\n",
    "8. Other (Другое).\n",
    "\n",
    "#### 1. **Демографические и домохозяйственные данные:**\n",
    "- **`HHSAM`** — состав домохозяйства (например, наличие детей может влиять на выбор транспорта).\n",
    "- **`HHBRUTOINK2_w5`** — доход домохозяйства (высокий доход может коррелировать с использованием автомобиля).\n",
    "- **`HHAUTO`, `HHBESTEL`, `HHHYBRID`, `HHMOTOR`, `HHBROM`, `HHSNOR`, `HHFIETS`, `HHVOUWFIETS`, `HHEBIKE`** — Наличие транспортных средств.\n",
    "\n",
    "#### 2. **Географические и инфраструктурные данные:**\n",
    "- **`STED_GM`** — уровень урбанизации (влияет на доступность общественного транспорта).\n",
    "- **`PROV`** — провинция (региональные различия в транспортных привычках).\n",
    "- **`vlokatie_station`** — расстояние до ближайшей ж/д станции.\n",
    "- **`vlokatie_bushalte4xpu`** — расстояние до часто ходящего автобуса.\n",
    "\n",
    "#### 3. **Характеристики поездки:**\n",
    "- **`KAFSTV`** — класс расстояния поездки (короткие поездки чаще на велосипеде/пешком).\n",
    "- **`KVERTTIJD`** — время начала поездки (пиковые часы могут влиять на выбор транспорта).\n",
    "- **`DOEL`** — цель поездки (например, работа, шопинг).\n",
    "- **`MOTIEF`** — мотив поездки (деловой, leisure и т.д.).\n",
    "- **`TOER`** — является ли поездка круговой (может влиять на выбор транспорта).\n",
    "\n",
    "#### 4. **Личные предпочтения и отношение к транспорту:**\n",
    "- **`OORDEEL_AUTO`** — Оценка автомобиля.  \n",
    "- **`OORDEEL_TREIN`** — Оценка поезда.  \n",
    "- **`OORDEEL_BTM`** — Оценка общественного транспорта.  \n",
    "- **`OORDEEL_FIETS`** — Оценка велосипеда.  \n",
    "- **`OORDEEL_BROMMER`** — Оценка мопеда. \n",
    "- **`OORDEEL_LOPEN`** — Оценка ходьбы.\n",
    "- **`GEBRUIK_AUTO_STELLING3` / `GEBRUIK_AUTO_STELLING4`** — Восприятие авто (экономия времени, безопасность). \n",
    "- **`GEBRUIK_TREIN_STELLING3` / `GEBRUIK_TREIN_STELLING4`** — Восприятие поезда.\n",
    "- **`GEBRUIK_BTM_STELLING3` / `GEBRUIK_BTM_STELLING4`** — Восприятие общественного транспорта.\n",
    "- **`GEBRUIK_FIETS_STELLING2` / `GEBRUIK_FIETS_STELLING3`** — Восприятие велосипеда.\n",
    "- **`GEBRUIK_LOPEN_STELLING3` / `GEBRUIK_LOPEN_STELLING4`** — Восприятие ходьбы.\n",
    "\n",
    "#### 5. **Данные о транспортных средствах:**\n",
    "- **`ROLAUTO`** — роль в поездке (водитель/пассажир).\n",
    "- **`PARKEERKOSTEN`** — стоимость парковки (может влиять на решение использовать автомобиль)."
   ]
  },
  {
   "cell_type": "code",
   "execution_count": 77,
   "id": "d0b8f980",
   "metadata": {},
   "outputs": [
    {
     "data": {
      "application/vnd.plotly.v1+json": {
       "config": {
        "plotlyServerURL": "https://plot.ly"
       },
       "data": [
        {
         "coloraxis": "coloraxis",
         "hovertemplate": "x: %{x}<br>y: %{y}<br>color: %{z}<extra></extra>",
         "name": "0",
         "texttemplate": "%{z:.2f}",
         "type": "heatmap",
         "x": [
          "KHVM",
          "AANTVPL",
          "KAFSTV",
          "KMOTIEF",
          "TOER",
          "ROLAUTO",
          "OORDEEL_AUTO",
          "OORDEEL_TREIN",
          "OORDEEL_BTM",
          "OORDEEL_FIETS",
          "OORDEEL_BROMMER",
          "OORDEEL_LOPEN",
          "GEBRUIK_AUTO_STELLING3",
          "GEBRUIK_AUTO_STELLING4",
          "GEBRUIK_TREIN_STELLING3",
          "GEBRUIK_TREIN_STELLING4",
          "GEBRUIK_BTM_STELLING3",
          "GEBRUIK_BTM_STELLING4",
          "GEBRUIK_FIETS_STELLING2",
          "GEBRUIK_FIETS_STELLING3",
          "GEBRUIK_LOPEN_STELLING3",
          "GEBRUIK_LOPEN_STELLING4",
          "HHBRUTOINK2_w5",
          "HHAUTO",
          "HHPERS",
          "HHBESTEL",
          "HHHYBRID",
          "HHMOTOR",
          "HHBROM",
          "HHSNOR",
          "HHFIETS",
          "HHVOUWFIETS",
          "HHEBIKE",
          "province_route",
          "travel_duration"
         ],
         "xaxis": "x",
         "y": [
          "KHVM",
          "AANTVPL",
          "KAFSTV",
          "KMOTIEF",
          "TOER",
          "ROLAUTO",
          "OORDEEL_AUTO",
          "OORDEEL_TREIN",
          "OORDEEL_BTM",
          "OORDEEL_FIETS",
          "OORDEEL_BROMMER",
          "OORDEEL_LOPEN",
          "GEBRUIK_AUTO_STELLING3",
          "GEBRUIK_AUTO_STELLING4",
          "GEBRUIK_TREIN_STELLING3",
          "GEBRUIK_TREIN_STELLING4",
          "GEBRUIK_BTM_STELLING3",
          "GEBRUIK_BTM_STELLING4",
          "GEBRUIK_FIETS_STELLING2",
          "GEBRUIK_FIETS_STELLING3",
          "GEBRUIK_LOPEN_STELLING3",
          "GEBRUIK_LOPEN_STELLING4",
          "HHBRUTOINK2_w5",
          "HHAUTO",
          "HHPERS",
          "HHBESTEL",
          "HHHYBRID",
          "HHMOTOR",
          "HHBROM",
          "HHSNOR",
          "HHFIETS",
          "HHVOUWFIETS",
          "HHEBIKE",
          "province_route",
          "travel_duration"
         ],
         "yaxis": "y",
         "z": {
          "bdata": "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",
          "dtype": "f8",
          "shape": "35, 35"
         }
        }
       ],
       "layout": {
        "coloraxis": {
         "cmax": 1,
         "cmin": -1,
         "colorscale": [
          [
           0,
           "rgb(5,48,97)"
          ],
          [
           0.1,
           "rgb(33,102,172)"
          ],
          [
           0.2,
           "rgb(67,147,195)"
          ],
          [
           0.3,
           "rgb(146,197,222)"
          ],
          [
           0.4,
           "rgb(209,229,240)"
          ],
          [
           0.5,
           "rgb(247,247,247)"
          ],
          [
           0.6,
           "rgb(253,219,199)"
          ],
          [
           0.7,
           "rgb(244,165,130)"
          ],
          [
           0.8,
           "rgb(214,96,77)"
          ],
          [
           0.9,
           "rgb(178,24,43)"
          ],
          [
           1,
           "rgb(103,0,31)"
          ]
         ]
        },
        "font": {
         "size": 14
        },
        "height": 1000,
        "margin": {
         "b": 50,
         "l": 50,
         "r": 50,
         "t": 100
        },
        "template": {
         "data": {
          "bar": [
           {
            "error_x": {
             "color": "#2a3f5f"
            },
            "error_y": {
             "color": "#2a3f5f"
            },
            "marker": {
             "line": {
              "color": "#E5ECF6",
              "width": 0.5
             },
             "pattern": {
              "fillmode": "overlay",
              "size": 10,
              "solidity": 0.2
             }
            },
            "type": "bar"
           }
          ],
          "barpolar": [
           {
            "marker": {
             "line": {
              "color": "#E5ECF6",
              "width": 0.5
             },
             "pattern": {
              "fillmode": "overlay",
              "size": 10,
              "solidity": 0.2
             }
            },
            "type": "barpolar"
           }
          ],
          "carpet": [
           {
            "aaxis": {
             "endlinecolor": "#2a3f5f",
             "gridcolor": "white",
             "linecolor": "white",
             "minorgridcolor": "white",
             "startlinecolor": "#2a3f5f"
            },
            "baxis": {
             "endlinecolor": "#2a3f5f",
             "gridcolor": "white",
             "linecolor": "white",
             "minorgridcolor": "white",
             "startlinecolor": "#2a3f5f"
            },
            "type": "carpet"
           }
          ],
          "choropleth": [
           {
            "colorbar": {
             "outlinewidth": 0,
             "ticks": ""
            },
            "type": "choropleth"
           }
          ],
          "contour": [
           {
            "colorbar": {
             "outlinewidth": 0,
             "ticks": ""
            },
            "colorscale": [
             [
              0,
              "#0d0887"
             ],
             [
              0.1111111111111111,
              "#46039f"
             ],
             [
              0.2222222222222222,
              "#7201a8"
             ],
             [
              0.3333333333333333,
              "#9c179e"
             ],
             [
              0.4444444444444444,
              "#bd3786"
             ],
             [
              0.5555555555555556,
              "#d8576b"
             ],
             [
              0.6666666666666666,
              "#ed7953"
             ],
             [
              0.7777777777777778,
              "#fb9f3a"
             ],
             [
              0.8888888888888888,
              "#fdca26"
             ],
             [
              1,
              "#f0f921"
             ]
            ],
            "type": "contour"
           }
          ],
          "contourcarpet": [
           {
            "colorbar": {
             "outlinewidth": 0,
             "ticks": ""
            },
            "type": "contourcarpet"
           }
          ],
          "heatmap": [
           {
            "colorbar": {
             "outlinewidth": 0,
             "ticks": ""
            },
            "colorscale": [
             [
              0,
              "#0d0887"
             ],
             [
              0.1111111111111111,
              "#46039f"
             ],
             [
              0.2222222222222222,
              "#7201a8"
             ],
             [
              0.3333333333333333,
              "#9c179e"
             ],
             [
              0.4444444444444444,
              "#bd3786"
             ],
             [
              0.5555555555555556,
              "#d8576b"
             ],
             [
              0.6666666666666666,
              "#ed7953"
             ],
             [
              0.7777777777777778,
              "#fb9f3a"
             ],
             [
              0.8888888888888888,
              "#fdca26"
             ],
             [
              1,
              "#f0f921"
             ]
            ],
            "type": "heatmap"
           }
          ],
          "histogram": [
           {
            "marker": {
             "pattern": {
              "fillmode": "overlay",
              "size": 10,
              "solidity": 0.2
             }
            },
            "type": "histogram"
           }
          ],
          "histogram2d": [
           {
            "colorbar": {
             "outlinewidth": 0,
             "ticks": ""
            },
            "colorscale": [
             [
              0,
              "#0d0887"
             ],
             [
              0.1111111111111111,
              "#46039f"
             ],
             [
              0.2222222222222222,
              "#7201a8"
             ],
             [
              0.3333333333333333,
              "#9c179e"
             ],
             [
              0.4444444444444444,
              "#bd3786"
             ],
             [
              0.5555555555555556,
              "#d8576b"
             ],
             [
              0.6666666666666666,
              "#ed7953"
             ],
             [
              0.7777777777777778,
              "#fb9f3a"
             ],
             [
              0.8888888888888888,
              "#fdca26"
             ],
             [
              1,
              "#f0f921"
             ]
            ],
            "type": "histogram2d"
           }
          ],
          "histogram2dcontour": [
           {
            "colorbar": {
             "outlinewidth": 0,
             "ticks": ""
            },
            "colorscale": [
             [
              0,
              "#0d0887"
             ],
             [
              0.1111111111111111,
              "#46039f"
             ],
             [
              0.2222222222222222,
              "#7201a8"
             ],
             [
              0.3333333333333333,
              "#9c179e"
             ],
             [
              0.4444444444444444,
              "#bd3786"
             ],
             [
              0.5555555555555556,
              "#d8576b"
             ],
             [
              0.6666666666666666,
              "#ed7953"
             ],
             [
              0.7777777777777778,
              "#fb9f3a"
             ],
             [
              0.8888888888888888,
              "#fdca26"
             ],
             [
              1,
              "#f0f921"
             ]
            ],
            "type": "histogram2dcontour"
           }
          ],
          "mesh3d": [
           {
            "colorbar": {
             "outlinewidth": 0,
             "ticks": ""
            },
            "type": "mesh3d"
           }
          ],
          "parcoords": [
           {
            "line": {
             "colorbar": {
              "outlinewidth": 0,
              "ticks": ""
             }
            },
            "type": "parcoords"
           }
          ],
          "pie": [
           {
            "automargin": true,
            "type": "pie"
           }
          ],
          "scatter": [
           {
            "fillpattern": {
             "fillmode": "overlay",
             "size": 10,
             "solidity": 0.2
            },
            "type": "scatter"
           }
          ],
          "scatter3d": [
           {
            "line": {
             "colorbar": {
              "outlinewidth": 0,
              "ticks": ""
             }
            },
            "marker": {
             "colorbar": {
              "outlinewidth": 0,
              "ticks": ""
             }
            },
            "type": "scatter3d"
           }
          ],
          "scattercarpet": [
           {
            "marker": {
             "colorbar": {
              "outlinewidth": 0,
              "ticks": ""
             }
            },
            "type": "scattercarpet"
           }
          ],
          "scattergeo": [
           {
            "marker": {
             "colorbar": {
              "outlinewidth": 0,
              "ticks": ""
             }
            },
            "type": "scattergeo"
           }
          ],
          "scattergl": [
           {
            "marker": {
             "colorbar": {
              "outlinewidth": 0,
              "ticks": ""
             }
            },
            "type": "scattergl"
           }
          ],
          "scattermap": [
           {
            "marker": {
             "colorbar": {
              "outlinewidth": 0,
              "ticks": ""
             }
            },
            "type": "scattermap"
           }
          ],
          "scattermapbox": [
           {
            "marker": {
             "colorbar": {
              "outlinewidth": 0,
              "ticks": ""
             }
            },
            "type": "scattermapbox"
           }
          ],
          "scatterpolar": [
           {
            "marker": {
             "colorbar": {
              "outlinewidth": 0,
              "ticks": ""
             }
            },
            "type": "scatterpolar"
           }
          ],
          "scatterpolargl": [
           {
            "marker": {
             "colorbar": {
              "outlinewidth": 0,
              "ticks": ""
             }
            },
            "type": "scatterpolargl"
           }
          ],
          "scatterternary": [
           {
            "marker": {
             "colorbar": {
              "outlinewidth": 0,
              "ticks": ""
             }
            },
            "type": "scatterternary"
           }
          ],
          "surface": [
           {
            "colorbar": {
             "outlinewidth": 0,
             "ticks": ""
            },
            "colorscale": [
             [
              0,
              "#0d0887"
             ],
             [
              0.1111111111111111,
              "#46039f"
             ],
             [
              0.2222222222222222,
              "#7201a8"
             ],
             [
              0.3333333333333333,
              "#9c179e"
             ],
             [
              0.4444444444444444,
              "#bd3786"
             ],
             [
              0.5555555555555556,
              "#d8576b"
             ],
             [
              0.6666666666666666,
              "#ed7953"
             ],
             [
              0.7777777777777778,
              "#fb9f3a"
             ],
             [
              0.8888888888888888,
              "#fdca26"
             ],
             [
              1,
              "#f0f921"
             ]
            ],
            "type": "surface"
           }
          ],
          "table": [
           {
            "cells": {
             "fill": {
              "color": "#EBF0F8"
             },
             "line": {
              "color": "white"
             }
            },
            "header": {
             "fill": {
              "color": "#C8D4E3"
             },
             "line": {
              "color": "white"
             }
            },
            "type": "table"
           }
          ]
         },
         "layout": {
          "annotationdefaults": {
           "arrowcolor": "#2a3f5f",
           "arrowhead": 0,
           "arrowwidth": 1
          },
          "autotypenumbers": "strict",
          "coloraxis": {
           "colorbar": {
            "outlinewidth": 0,
            "ticks": ""
           }
          },
          "colorscale": {
           "diverging": [
            [
             0,
             "#8e0152"
            ],
            [
             0.1,
             "#c51b7d"
            ],
            [
             0.2,
             "#de77ae"
            ],
            [
             0.3,
             "#f1b6da"
            ],
            [
             0.4,
             "#fde0ef"
            ],
            [
             0.5,
             "#f7f7f7"
            ],
            [
             0.6,
             "#e6f5d0"
            ],
            [
             0.7,
             "#b8e186"
            ],
            [
             0.8,
             "#7fbc41"
            ],
            [
             0.9,
             "#4d9221"
            ],
            [
             1,
             "#276419"
            ]
           ],
           "sequential": [
            [
             0,
             "#0d0887"
            ],
            [
             0.1111111111111111,
             "#46039f"
            ],
            [
             0.2222222222222222,
             "#7201a8"
            ],
            [
             0.3333333333333333,
             "#9c179e"
            ],
            [
             0.4444444444444444,
             "#bd3786"
            ],
            [
             0.5555555555555556,
             "#d8576b"
            ],
            [
             0.6666666666666666,
             "#ed7953"
            ],
            [
             0.7777777777777778,
             "#fb9f3a"
            ],
            [
             0.8888888888888888,
             "#fdca26"
            ],
            [
             1,
             "#f0f921"
            ]
           ],
           "sequentialminus": [
            [
             0,
             "#0d0887"
            ],
            [
             0.1111111111111111,
             "#46039f"
            ],
            [
             0.2222222222222222,
             "#7201a8"
            ],
            [
             0.3333333333333333,
             "#9c179e"
            ],
            [
             0.4444444444444444,
             "#bd3786"
            ],
            [
             0.5555555555555556,
             "#d8576b"
            ],
            [
             0.6666666666666666,
             "#ed7953"
            ],
            [
             0.7777777777777778,
             "#fb9f3a"
            ],
            [
             0.8888888888888888,
             "#fdca26"
            ],
            [
             1,
             "#f0f921"
            ]
           ]
          },
          "colorway": [
           "#636efa",
           "#EF553B",
           "#00cc96",
           "#ab63fa",
           "#FFA15A",
           "#19d3f3",
           "#FF6692",
           "#B6E880",
           "#FF97FF",
           "#FECB52"
          ],
          "font": {
           "color": "#2a3f5f"
          },
          "geo": {
           "bgcolor": "white",
           "lakecolor": "white",
           "landcolor": "#E5ECF6",
           "showlakes": true,
           "showland": true,
           "subunitcolor": "white"
          },
          "hoverlabel": {
           "align": "left"
          },
          "hovermode": "closest",
          "mapbox": {
           "style": "light"
          },
          "paper_bgcolor": "white",
          "plot_bgcolor": "#E5ECF6",
          "polar": {
           "angularaxis": {
            "gridcolor": "white",
            "linecolor": "white",
            "ticks": ""
           },
           "bgcolor": "#E5ECF6",
           "radialaxis": {
            "gridcolor": "white",
            "linecolor": "white",
            "ticks": ""
           }
          },
          "scene": {
           "xaxis": {
            "backgroundcolor": "#E5ECF6",
            "gridcolor": "white",
            "gridwidth": 2,
            "linecolor": "white",
            "showbackground": true,
            "ticks": "",
            "zerolinecolor": "white"
           },
           "yaxis": {
            "backgroundcolor": "#E5ECF6",
            "gridcolor": "white",
            "gridwidth": 2,
            "linecolor": "white",
            "showbackground": true,
            "ticks": "",
            "zerolinecolor": "white"
           },
           "zaxis": {
            "backgroundcolor": "#E5ECF6",
            "gridcolor": "white",
            "gridwidth": 2,
            "linecolor": "white",
            "showbackground": true,
            "ticks": "",
            "zerolinecolor": "white"
           }
          },
          "shapedefaults": {
           "line": {
            "color": "#2a3f5f"
           }
          },
          "ternary": {
           "aaxis": {
            "gridcolor": "white",
            "linecolor": "white",
            "ticks": ""
           },
           "baxis": {
            "gridcolor": "white",
            "linecolor": "white",
            "ticks": ""
           },
           "bgcolor": "#E5ECF6",
           "caxis": {
            "gridcolor": "white",
            "linecolor": "white",
            "ticks": ""
           }
          },
          "title": {
           "x": 0.05
          },
          "xaxis": {
           "automargin": true,
           "gridcolor": "white",
           "linecolor": "white",
           "ticks": "",
           "title": {
            "standoff": 15
           },
           "zerolinecolor": "white",
           "zerolinewidth": 2
          },
          "yaxis": {
           "automargin": true,
           "gridcolor": "white",
           "linecolor": "white",
           "ticks": "",
           "title": {
            "standoff": 15
           },
           "zerolinecolor": "white",
           "zerolinewidth": 2
          }
         }
        },
        "title": {
         "text": "Матрица корреляций признаков, связанных с основным видом транспорта (KHVM)",
         "x": 0.5
        },
        "width": 1000,
        "xaxis": {
         "anchor": "y",
         "constrain": "domain",
         "domain": [
          0,
          1
         ],
         "scaleanchor": "y"
        },
        "yaxis": {
         "anchor": "x",
         "autorange": "reversed",
         "constrain": "domain",
         "domain": [
          0,
          1
         ]
        }
       }
      }
     },
     "metadata": {},
     "output_type": "display_data"
    }
   ],
   "source": [
    "# Отфильтруем нужные столбцы\n",
    "columns_of_interest = [\n",
    "    'KHVM', 'AANTVPL', 'KAFSTV', 'KMOTIEF', 'TOER',\n",
    "    'ROLAUTO', 'OORDEEL_AUTO', 'OORDEEL_TREIN', 'OORDEEL_BTM',\n",
    "    'OORDEEL_FIETS', 'OORDEEL_BROMMER', 'OORDEEL_LOPEN',\n",
    "    'GEBRUIK_AUTO_STELLING3', 'GEBRUIK_AUTO_STELLING4',\n",
    "    'GEBRUIK_TREIN_STELLING3', 'GEBRUIK_TREIN_STELLING4',\n",
    "    'GEBRUIK_BTM_STELLING3', 'GEBRUIK_BTM_STELLING4',\n",
    "    'GEBRUIK_FIETS_STELLING2', 'GEBRUIK_FIETS_STELLING3',\n",
    "    'GEBRUIK_LOPEN_STELLING3', 'GEBRUIK_LOPEN_STELLING4',\n",
    "    'HHBRUTOINK2_w5', 'HHAUTO', 'HHPERS', 'HHBESTEL', \n",
    "    'HHHYBRID', 'HHMOTOR', 'HHBROM', 'HHSNOR',\n",
    "    'HHFIETS', 'HHVOUWFIETS', 'HHEBIKE', 'province_route', \n",
    "    'travel_duration'\n",
    "]\n",
    "\n",
    "df_corr = df[columns_of_interest]\n",
    "corr_matrix = df_corr.corr()\n",
    "\n",
    "\n",
    "fig = px.imshow(\n",
    "    corr_matrix, \n",
    "    height=1000, \n",
    "    width=1000, \n",
    "    text_auto='.2f', \n",
    "    color_continuous_scale='RdBu_r',\n",
    "    zmin=-1, zmax=1\n",
    ")\n",
    "\n",
    "fig.update_layout(\n",
    "    title = {'text': 'Матрица корреляций признаков, связанных с основным видом транспорта (KHVM)', 'x': 0.5},\n",
    "    margin=dict(t=100, b=50, l=50, r=50),\n",
    "    font=dict(size=14) \n",
    ")\n",
    "\n",
    "fig.show()\n"
   ]
  },
  {
   "cell_type": "markdown",
   "id": "2833d739",
   "metadata": {},
   "source": [
    "#### Выводы:\n",
    "1. `ROLAUTO` - высокая отрицательная корреляция −0.74. Звучит логично т.к. если ROLAUTO равен 1(пассажир) или 2(водитель), то значение таргета KHVM ниже - относится к классам 1 или 2, а не 3-8.\n",
    "2. `KAFSTV` - средняя отрицательная корреляция -0,43. Так же объяснение лежит на поверхности: чем длиннее поездка (больше KAFSTV), тем больше людей выберут авто/поезд как вид транспорта (меньше KHVM).\n",
    "3. `TOER` - умеренная положительная корреляция 0,21. Интерпретация может заключаться в том, что если маршрут круговой(прогулка, поездка на велосипеде, работа) люди предпочитают использовать KHVM с большими порядковыми числами(пешком, СИД и тд)."
   ]
  },
  {
   "cell_type": "markdown",
   "id": "e73b515b",
   "metadata": {},
   "source": [
    "## 4. Разбиение на train/test выборки\n",
    "\n",
    "Для задачи мультиклассовой классфикации таргета `KHVM` выберем стандартное деление 70% для train-выборки и 30% для test-выборки - компромисс между качественным обучением модели и надёжной валидацией её предсказательной способности."
   ]
  },
  {
   "cell_type": "code",
   "execution_count": 78,
   "id": "8b7f2457",
   "metadata": {},
   "outputs": [
    {
     "name": "stdout",
     "output_type": "stream",
     "text": [
      "KHVM\n",
      "1    1103\n",
      "2    1103\n",
      "3    1103\n",
      "4    1103\n",
      "5    1103\n",
      "6    1103\n",
      "7    1103\n",
      "8    1103\n",
      "Name: count, dtype: int64\n"
     ]
    }
   ],
   "source": [
    "target_name = 'KHVM'\n",
    "y = df[target_name]\n",
    "X = df.drop(columns=[target_name])\n",
    "\n",
    "\n",
    "# Стратифицированное деление, чтобы сохранить баланс классов\n",
    "X_train, X_test, y_train, y_test = train_test_split(\n",
    "    X, y, test_size=0.3, stratify=y\n",
    ")\n",
    "\n",
    "ros = RandomOverSampler(random_state=0)\n",
    "X_res, y_res = ros.fit_resample(X_train, y_train)\n",
    "\n",
    "print(pd.Series(y_res).value_counts())\n"
   ]
  },
  {
   "cell_type": "markdown",
   "id": "09209fbe",
   "metadata": {},
   "source": [
    "## AutoML (LightAutoML)\n",
    "\n",
    "Для реализации AutoML-модели я выбрал библиотеку LAMA от братьев наших меньших из сбера.\n",
    "Далее идет описание AutoML-пайплайна:"
   ]
  },
  {
   "cell_type": "code",
   "execution_count": 1,
   "id": "35f2050b",
   "metadata": {},
   "outputs": [
    {
     "ename": "NameError",
     "evalue": "name 'X_res' is not defined",
     "output_type": "error",
     "traceback": [
      "\u001b[31m---------------------------------------------------------------------------\u001b[39m",
      "\u001b[31mNameError\u001b[39m                                 Traceback (most recent call last)",
      "\u001b[36mCell\u001b[39m\u001b[36m \u001b[39m\u001b[32mIn[1]\u001b[39m\u001b[32m, line 1\u001b[39m\n\u001b[32m----> \u001b[39m\u001b[32m1\u001b[39m train_data = \u001b[43mX_res\u001b[49m.copy()\n\u001b[32m      2\u001b[39m train_data[target_name] = y_res\n\u001b[32m      4\u001b[39m categorical_columns = \u001b[38;5;28mlist\u001b[39m(train_data.select_dtypes(include=[\u001b[33m'\u001b[39m\u001b[33mcategory\u001b[39m\u001b[33m'\u001b[39m]).columns)\n",
      "\u001b[31mNameError\u001b[39m: name 'X_res' is not defined"
     ]
    }
   ],
   "source": [
    "train_data = X_res.copy()\n",
    "train_data[target_name] = y_res\n",
    "\n",
    "categorical_columns = list(train_data.select_dtypes(include=['category']).columns)\n",
    "\n",
    "task = Task('multiclass', metric='crossentropy')\n",
    "\n",
    "roles = {\n",
    "    'target': 'KHVM'\n",
    "}\n",
    "\n",
    "automl = TabularAutoML(\n",
    "    task=task,\n",
    "    timeout=1500,\n",
    "    cpu_limit=6,\n",
    "    memory_limit=10000,\n",
    "    reader_params={\n",
    "        'n_jobs': 4,\n",
    "        'cv': 5\n",
    "    },\n",
    "    lgb_params={\n",
    "        'default_params': {\n",
    "            'metric': 'multi_logloss',\n",
    "        }\n",
    "    },\n",
    "    tuning_params={\n",
    "        'max_iters': 20,\n",
    "    }\n",
    ")\n",
    "\n",
    "start = time.time()\n",
    "oof_preds = automl.fit_predict(train_data, roles=roles, verbose=1)\n",
    "print(\"⏱ Обучение заняло:\", round(time.time() - start, 2), \"секунд\")\n",
    "\n",
    "joblib.dump(automl, \"automl_khvm_model.joblib\")\n",
    "print(\"✅ Модель сохранена в 'automl_khvm_model.joblib'\")\n"
   ]
  },
  {
   "cell_type": "markdown",
   "id": "8e3dc45d",
   "metadata": {},
   "source": [
    "Далее тестируем модель и расчитываем метрики"
   ]
  },
  {
   "cell_type": "code",
   "execution_count": null,
   "id": "3fa3843a",
   "metadata": {},
   "outputs": [],
   "source": [
    "automl = joblib.load(\"automl_khvm_model.joblib\")\n",
    "# Предсказания\n",
    "X_test_clean = X_test.copy()\n",
    "test_preds = automl.predict(X_test_clean)\n",
    "\n",
    "# Получаем метки классов в правильном порядке\n",
    "class_labels = np.array(test_preds.features)  # список меток классов\n",
    "\n",
    "# Обработка предсказаний\n",
    "y_proba = test_preds.data  # вероятности\n",
    "y_pred_idx = y_proba.argmax(axis=1)  # индексы наиболее вероятных классов\n",
    "y_pred = class_labels[y_pred_idx]    # индексы → реальные метки\n",
    "\n",
    "# Приводим y_true к тому же типу\n",
    "y_true = y_test.astype(class_labels.dtype)\n",
    "\n",
    "# Метрики\n",
    "print(\"\\n📊 Основные метрики:\")\n",
    "print(f\"Accuracy:      {accuracy_score(y_true, y_pred):.4f}\")\n",
    "print(f\"F1 Macro:      {f1_score(y_true, y_pred, average='macro'):.4f}\")\n",
    "print(f\"F1 Weighted:   {f1_score(y_true, y_pred, average='weighted'):.4f}\")\n",
    "print(f\"Log Loss:      {log_loss(y_true, y_proba, labels=class_labels):.4f}\")\n",
    "\n",
    "print(\"\\n🧩 Матрица ошибок:\")\n",
    "print(confusion_matrix(y_true, y_pred, labels=class_labels))\n",
    "\n",
    "print(\"\\n📝 Классификационный отчёт:\")\n",
    "print(classification_report(y_true, y_pred, labels=class_labels))\n"
   ]
  },
  {
   "cell_type": "markdown",
   "id": "049675b8",
   "metadata": {},
   "source": [
    "# Модель, слава тебе господи"
   ]
  },
  {
   "cell_type": "code",
   "execution_count": 79,
   "id": "2a5acc19",
   "metadata": {},
   "outputs": [],
   "source": [
    "ros = RandomOverSampler(random_state=0)\n",
    "X_res, y_res = ros.fit_resample(X_train, y_train)\n",
    "\n",
    "# Кодирование таргета\n",
    "le = LabelEncoder()\n",
    "y_train_encoded = le.fit_transform(y_train)\n",
    "y_test_encoded = le.transform(y_test)\n",
    "\n",
    "# Категориальные признаки\n",
    "categorical_columns = X_train.select_dtypes(include=[\"category\"]).columns.tolist()\n",
    "\n",
    "# Подготовка данных для моделей, которые не поддерживают категориальные признаки напрямую\n",
    "X_train_rf = X_train.copy()\n",
    "X_test_rf = X_test.copy()\n",
    "\n",
    "for col in categorical_columns:\n",
    "    le_col = LabelEncoder()\n",
    "    unique_values = np.unique(\n",
    "        np.concatenate([X_train[col].astype(str), X_test[col].astype(str)])\n",
    "    )\n",
    "    le_col.fit(unique_values)\n",
    "    X_train_rf[col] = le_col.transform(X_train[col].astype(str))\n",
    "    X_test_rf[col] = le_col.transform(X_test[col].astype(str))\n",
    "\n",
    "# Преобразование категориальных столбцов в строки для CatBoost\n",
    "X_train_cat = X_train.copy()\n",
    "X_test_cat = X_test.copy()\n",
    "for col in categorical_columns:\n",
    "    X_train_cat[col] = X_train_cat[col].astype(str)\n",
    "    X_test_cat[col] = X_test_cat[col].astype(str)"
   ]
  },
  {
   "cell_type": "code",
   "execution_count": null,
   "id": "0b568be4",
   "metadata": {},
   "outputs": [
    {
     "name": "stdout",
     "output_type": "stream",
     "text": [
      "Fold 1\n",
      "  Training model: CatBoostClassifier\n",
      "0:\tlearn: 1.8928055\ttest: 1.8913914\tbest: 1.8913914 (0)\ttotal: 114ms\tremaining: 1m 53s\n",
      "100:\tlearn: 0.3729120\ttest: 0.3742719\tbest: 0.3742719 (100)\ttotal: 23.4s\tremaining: 3m 28s\n",
      "200:\tlearn: 0.2729220\ttest: 0.2986104\tbest: 0.2986104 (200)\ttotal: 48.6s\tremaining: 3m 13s\n",
      "300:\tlearn: 0.2217791\ttest: 0.2627382\tbest: 0.2627382 (300)\ttotal: 1m 15s\tremaining: 2m 54s\n",
      "400:\tlearn: 0.1915982\ttest: 0.2435222\tbest: 0.2435222 (400)\ttotal: 1m 42s\tremaining: 2m 33s\n",
      "500:\tlearn: 0.1675330\ttest: 0.2274426\tbest: 0.2274426 (500)\ttotal: 2m 12s\tremaining: 2m 11s\n",
      "600:\tlearn: 0.1473970\ttest: 0.2165136\tbest: 0.2164912 (597)\ttotal: 2m 44s\tremaining: 1m 49s\n"
     ]
    }
   ],
   "source": [
    "catboost_model = CatBoostClassifier(\n",
    "    iterations=1000,\n",
    "    learning_rate=0.05,\n",
    "    depth=6,\n",
    "    early_stopping_rounds=50,\n",
    "    eval_metric='MultiClass',\n",
    "    loss_function='MultiClass',\n",
    "    task_type='CPU',\n",
    "    cat_features=categorical_columns,\n",
    "    verbose=100\n",
    ")\n",
    "xgboost_model = XGBClassifier(\n",
    "    n_estimators=1000,\n",
    "    learning_rate=0.05,\n",
    "    max_depth=6,\n",
    "    subsample=0.8,\n",
    "    colsample_bytree=0.8,\n",
    "    reg_alpha=0.1,\n",
    "    reg_lambda=1.0,\n",
    "    objective='multi:softprob',\n",
    "    eval_metric='mlogloss',\n",
    "    tree_method='hist',\n",
    "    enable_categorical=True\n",
    ")\n",
    "lightgbm_model = LGBMClassifier(\n",
    "    n_estimators=1000,\n",
    "    learning_rate=0.05,\n",
    "    max_depth=-1,\n",
    "    num_leaves=31,\n",
    "    min_child_samples=20,\n",
    "    subsample=0.8,\n",
    "    colsample_bytree=0.8,\n",
    "    reg_alpha=0.1,\n",
    "    reg_lambda=0.2,\n",
    "    class_weight='balanced',\n",
    "    max_bin=200,\n",
    "    device='cpu',\n",
    "    num_threads=7\n",
    ")\n",
    "\n",
    "rf_model = RandomForestClassifier(\n",
    "    n_estimators=300,\n",
    "    max_depth=15,\n",
    "    class_weight='balanced',\n",
    "    random_state=42,\n",
    "    n_jobs=-1\n",
    ")\n",
    "\n",
    "models = [catboost_model, xgboost_model, lightgbm_model, rf_model]\n",
    "\n",
    "# Кросс-валидация\n",
    "skf = StratifiedKFold(n_splits=5, shuffle=True, random_state=42)\n",
    "n_classes = len(np.unique(y_train_encoded))\n",
    "train_meta = np.zeros((X_train.shape[0], 4 * n_classes))\n",
    "test_meta = np.zeros((X_test.shape[0], 4 * n_classes, 5))\n",
    "\n",
    "for fold, (train_idx, val_idx) in enumerate(skf.split(X_train, y_train_encoded)):\n",
    "    print(f\"Fold {fold+1}\")\n",
    "    X_tr_raw, X_val_raw = X_train.iloc[train_idx], X_train.iloc[val_idx]\n",
    "    X_tr_rf, X_val_rf = X_train_rf.iloc[train_idx], X_train_rf.iloc[val_idx]\n",
    "    y_tr, y_val = y_train_encoded[train_idx], y_train_encoded[val_idx]\n",
    "\n",
    "    for i, model in enumerate(models):\n",
    "        model_name = type(model).__name__\n",
    "        print(f\"  Training model: {model_name}\")\n",
    "\n",
    "        if isinstance(model, CatBoostClassifier):\n",
    "            train_pool = Pool(X_tr_raw, y_tr, cat_features=categorical_columns)\n",
    "            val_pool = Pool(X_val_raw, y_val, cat_features=categorical_columns)\n",
    "            model.fit(train_pool, eval_set=val_pool)\n",
    "            train_meta[val_idx, i*n_classes:(i+1)*n_classes] = model.predict_proba(X_val_raw)\n",
    "            test_meta[:, i*n_classes:(i+1)*n_classes, fold] = model.predict_proba(X_test)\n",
    "\n",
    "        elif isinstance(model, RandomForestClassifier):\n",
    "            model.fit(X_tr_rf, y_tr)\n",
    "            train_meta[val_idx, i*n_classes:(i+1)*n_classes] = model.predict_proba(X_val_rf)\n",
    "            test_meta[:, i*n_classes:(i+1)*n_classes, fold] = model.predict_proba(X_test_rf)\n",
    "\n",
    "        else:  # XGBoost и LightGBM\n",
    "            model.fit(X_tr_rf, y_tr)\n",
    "            train_meta[val_idx, i*n_classes:(i+1)*n_classes] = model.predict_proba(X_val_rf)\n",
    "            test_meta[:, i*n_classes:(i+1)*n_classes, fold] = model.predict_proba(X_test_rf)\n",
    "\n",
    "# Усреднение по фолдам\n",
    "test_meta = test_meta.mean(axis=2)\n",
    "\n",
    "# Сохранение моделей и мета-признаков\n",
    "for i, model in enumerate(models):\n",
    "    joblib.dump(model, f'base_model_{i}.pkl')\n",
    "\n",
    "np.save('train_meta.npy', train_meta)\n",
    "np.save('test_meta.npy', test_meta)\n",
    "np.save('y_train_encoded.npy', y_train_encoded)\n"
   ]
  },
  {
   "cell_type": "code",
   "execution_count": 80,
   "id": "517e1b4d",
   "metadata": {},
   "outputs": [],
   "source": [
    "encoder = OrdinalEncoder(handle_unknown='use_encoded_value', unknown_value=-1)\n",
    "X_train_enc = X_train.copy()\n",
    "X_test_enc = X_test.copy()\n",
    "X_train_enc[categorical_columns] = encoder.fit_transform(X_train[categorical_columns])\n",
    "X_test_enc[categorical_columns] = encoder.transform(X_test[categorical_columns])\n",
    "\n",
    "X_train_sets = [\n",
    "    X_train,        # CatBoost\n",
    "    X_train,        # XGBoost\n",
    "    X_train_enc,    # LightGBM\n",
    "    X_train_enc     # RandomForest\n",
    "]\n",
    "X_test_sets = [\n",
    "    X_test,         # CatBoost\n",
    "    X_test,         # XGBoost\n",
    "    X_test_enc,     # LightGBM\n",
    "    X_test_enc      # RandomForest\n",
    "]\n",
    "\n",
    "\n",
    "models = [joblib.load(f'base_model_{i}.pkl') for i in range(4)]\n",
    "n_classes = 8\n",
    "\n",
    "\n",
    "def generate_meta_features(models, X_train_sets, X_test_sets, y_train_encoded, n_classes=8, n_folds=5):\n",
    "    n_models = len(models)\n",
    "    skf = StratifiedKFold(n_splits=n_folds, shuffle=True, random_state=42)\n",
    "\n",
    "    train_meta = np.zeros((X_train_sets[0].shape[0], n_models * n_classes))\n",
    "    test_meta_folds = np.zeros((X_test_sets[0].shape[0], n_models * n_classes, n_folds))\n",
    "\n",
    "    for fold, (train_idx, val_idx) in enumerate(skf.split(X_train_sets[0], y_train_encoded)):\n",
    "        for i, model in enumerate(models):\n",
    "            X_val = X_train_sets[i].iloc[val_idx]\n",
    "            test_pred = model.predict_proba(X_test_sets[i])\n",
    "            val_pred = model.predict_proba(X_val)\n",
    "\n",
    "            train_meta[val_idx, i * n_classes:(i + 1) * n_classes] = val_pred\n",
    "            test_meta_folds[:, i * n_classes:(i + 1) * n_classes, fold] = test_pred\n",
    "\n",
    "    test_meta = test_meta_folds.mean(axis=2)\n",
    "    return train_meta, test_meta"
   ]
  },
  {
   "cell_type": "markdown",
   "id": "f4e5a713",
   "metadata": {},
   "source": [
    "### Генерация мета-признаков"
   ]
  },
  {
   "cell_type": "code",
   "execution_count": 81,
   "id": "a2bb9f18",
   "metadata": {},
   "outputs": [],
   "source": [
    "train_meta, test_meta = generate_meta_features(\n",
    "    models=models,\n",
    "    X_train_sets=X_train_sets,\n",
    "    X_test_sets=X_test_sets,\n",
    "    y_train_encoded=y_train_encoded,\n",
    "    n_classes=n_classes\n",
    ")"
   ]
  },
  {
   "cell_type": "markdown",
   "id": "09dd42b9",
   "metadata": {},
   "source": [
    "### Расчет метрик по фолдам"
   ]
  },
  {
   "cell_type": "code",
   "execution_count": 82,
   "id": "1e831cd6",
   "metadata": {},
   "outputs": [
    {
     "name": "stdout",
     "output_type": "stream",
     "text": [
      "\n",
      "Fold 1\n",
      "CatBoost Log Loss: 0.1794\n",
      "CatBoost Accuracy: 0.9449\n",
      "XGBoost Log Loss: 0.4150\n",
      "XGBoost Accuracy: 0.8496\n",
      "LightGBM Log Loss: 0.4092\n",
      "LightGBM Accuracy: 0.8321\n",
      "RandomForest Log Loss: 0.5002\n",
      "RandomForest Accuracy: 0.9261\n",
      "\n",
      "Fold 2\n",
      "CatBoost Log Loss: 0.1517\n",
      "CatBoost Accuracy: 0.9599\n",
      "XGBoost Log Loss: 0.3602\n",
      "XGBoost Accuracy: 0.8622\n",
      "LightGBM Log Loss: 0.3647\n",
      "LightGBM Accuracy: 0.8559\n",
      "RandomForest Log Loss: 0.4868\n",
      "RandomForest Accuracy: 0.9411\n",
      "\n",
      "Fold 3\n",
      "CatBoost Log Loss: 0.1497\n",
      "CatBoost Accuracy: 0.9486\n",
      "XGBoost Log Loss: 0.3918\n",
      "XGBoost Accuracy: 0.8634\n",
      "LightGBM Log Loss: 0.4126\n",
      "LightGBM Accuracy: 0.8371\n",
      "RandomForest Log Loss: 0.4864\n",
      "RandomForest Accuracy: 0.9336\n",
      "\n",
      "Fold 4\n",
      "CatBoost Log Loss: 0.1707\n",
      "CatBoost Accuracy: 0.9486\n",
      "XGBoost Log Loss: 0.4254\n",
      "XGBoost Accuracy: 0.8484\n",
      "LightGBM Log Loss: 0.4271\n",
      "LightGBM Accuracy: 0.8409\n",
      "RandomForest Log Loss: 0.5120\n",
      "RandomForest Accuracy: 0.9286\n",
      "\n",
      "Fold 5\n",
      "CatBoost Log Loss: 0.1521\n",
      "CatBoost Accuracy: 0.9499\n",
      "XGBoost Log Loss: 0.3569\n",
      "XGBoost Accuracy: 0.8784\n",
      "LightGBM Log Loss: 0.3751\n",
      "LightGBM Accuracy: 0.8546\n",
      "RandomForest Log Loss: 0.4844\n",
      "RandomForest Accuracy: 0.9411\n"
     ]
    }
   ],
   "source": [
    "skf = StratifiedKFold(n_splits=5, shuffle=True, random_state=42)\n",
    "for fold, (_, val_idx) in enumerate(skf.split(X_train_sets[0], y_train_encoded)):\n",
    "    print(f\"\\nFold {fold + 1}\")\n",
    "    for i, model_name in enumerate(['CatBoost', 'XGBoost', 'LightGBM', 'RandomForest']):\n",
    "        y_pred = train_meta[val_idx, i*n_classes:(i+1)*n_classes]\n",
    "        y_pred_sum = y_pred.sum(axis=1, keepdims=True)\n",
    "        y_pred_sum[y_pred_sum == 0] = 1e-10\n",
    "        y_pred = y_pred / y_pred_sum\n",
    "        log_loss_score = log_loss(y_train_encoded[val_idx], y_pred, labels=range(n_classes))\n",
    "        accuracy = accuracy_score(y_train_encoded[val_idx], y_pred.argmax(axis=1))\n",
    "        print(f\"{model_name} Log Loss: {log_loss_score:.4f}\")\n",
    "        print(f\"{model_name} Accuracy: {accuracy:.4f}\")"
   ]
  },
  {
   "cell_type": "markdown",
   "id": "77aa19bb",
   "metadata": {},
   "source": [
    "### Обучение мета-моделей"
   ]
  },
  {
   "cell_type": "code",
   "execution_count": null,
   "id": "5d7b770e",
   "metadata": {},
   "outputs": [],
   "source": [
    "numerical_columns = X_train.select_dtypes(\n",
    "    include=[\"int\", \"float\", \"bool\"]\n",
    ").columns.tolist()\n",
    "categorical_columns = X_train.select_dtypes(\n",
    "    include=[\"object\", \"category\"]\n",
    ").columns.tolist()\n",
    "\n",
    "preprocessor = ColumnTransformer(\n",
    "    transformers=[\n",
    "        (\n",
    "            \"cat\",\n",
    "            OrdinalEncoder(handle_unknown=\"use_encoded_value\", unknown_value=-1),\n",
    "            categorical_columns,\n",
    "        ),\n",
    "        (\"num\", \"passthrough\", numerical_columns),\n",
    "    ],\n",
    "    remainder=\"passthrough\",\n",
    ")\n",
    "\n",
    "X_train_cat = X_train_cat[X_test_cat.columns]  # Синхронизация столбцов\n",
    "\n",
    "catboost_pipeline = Pipeline(\n",
    "    [(\"model\", catboost_model)]\n",
    ")  # CatBoost работает с X_train_cat\n",
    "preprocessor = ColumnTransformer(\n",
    "    transformers=[\n",
    "        (\n",
    "            \"cat\",\n",
    "            OrdinalEncoder(handle_unknown=\"use_encoded_value\", unknown_value=-1),\n",
    "            categorical_columns,\n",
    "        ),\n",
    "        (\"num\", \"passthrough\", X_train.columns.difference(categorical_columns)),\n",
    "    ],\n",
    "    remainder=\"passthrough\",\n",
    ")\n",
    "xgb_pipeline = Pipeline([(\"preprocess\", preprocessor), (\"model\", xgboost_model)])\n",
    "lgbm_pipeline = Pipeline([(\"preprocess\", preprocessor), (\"model\", lightgbm_model)])\n",
    "rf_pipeline = Pipeline([(\"preprocess\", preprocessor), (\"model\", rf_model)])\n",
    "\n",
    "# Стекинг\n",
    "stack = StackingClassifier(\n",
    "    estimators=[\n",
    "        (\"catboost\", catboost_pipeline),\n",
    "        (\"xgb\", xgb_pipeline),\n",
    "        (\"lgbm\", lgbm_pipeline),\n",
    "        (\"rf\", rf_pipeline),\n",
    "    ],\n",
    "    final_estimator=CatBoostClassifier(iterations=200, learning_rate=0.03, verbose=0),\n",
    "    cv=3,\n",
    "    stack_method=\"predict_proba\",\n",
    ")\n",
    "\n",
    "stack.fit(X_train_cat, y_train_encoded)\n",
    "joblib.dump(stack, \"stacking_model.pkl\")\n",
    "print(\"Модель сохранена в 'stacking_model.pkl'\")"
   ]
  },
  {
   "cell_type": "code",
   "execution_count": 66,
   "id": "9ab791f4",
   "metadata": {},
   "outputs": [
    {
     "name": "stderr",
     "output_type": "stream",
     "text": [
      "/Users/Shared/Py-приколы/Sandbox/.venv/lib/python3.12/site-packages/sklearn/utils/validation.py:2739: UserWarning:\n",
      "\n",
      "X does not have valid feature names, but LGBMClassifier was fitted with feature names\n",
      "\n",
      "/Users/Shared/Py-приколы/Sandbox/.venv/lib/python3.12/site-packages/sklearn/preprocessing/_label.py:151: DataConversionWarning:\n",
      "\n",
      "A column-vector y was passed when a 1d array was expected. Please change the shape of y to (n_samples, ), for example using ravel().\n",
      "\n"
     ]
    },
    {
     "name": "stdout",
     "output_type": "stream",
     "text": [
      "Accuracy: 0.9684\n",
      "Macro Avg F1: 0.9668\n",
      "Weighted Avg F1: 0.9685\n",
      "Log Loss: 0.1073\n"
     ]
    },
    {
     "name": "stderr",
     "output_type": "stream",
     "text": [
      "/Users/Shared/Py-приколы/Sandbox/.venv/lib/python3.12/site-packages/sklearn/utils/validation.py:2739: UserWarning:\n",
      "\n",
      "X does not have valid feature names, but LGBMClassifier was fitted with feature names\n",
      "\n"
     ]
    }
   ],
   "source": [
    "# Предсказания\n",
    "y_test_pred = stack.predict(X_test_cat)\n",
    "y_test_pred_proba = stack.predict_proba(X_test_cat)\n",
    "\n",
    "# Преобразуем в одномерные массивы\n",
    "y_test_encoded = y_test_encoded.ravel()\n",
    "y_test_pred = y_test_pred.ravel()\n",
    "\n",
    "# Метрики\n",
    "accuracy = accuracy_score(y_test_encoded, y_test_pred)\n",
    "report = classification_report(y_test_encoded, y_test_pred, digits=4, output_dict=True)\n",
    "macro_avg_f1 = report[\"macro avg\"][\"f1-score\"]\n",
    "weighted_avg_f1 = report[\"weighted avg\"][\"f1-score\"]\n",
    "logloss = log_loss(y_test_encoded, y_test_pred_proba)\n",
    "\n",
    "print(f\"Accuracy: {accuracy:.4f}\")\n",
    "print(f\"Macro Avg F1: {macro_avg_f1:.4f}\")\n",
    "print(f\"Weighted Avg F1: {weighted_avg_f1:.4f}\")\n",
    "print(f\"Log Loss: {logloss:.4f}\")"
   ]
  },
  {
   "cell_type": "code",
   "execution_count": null,
   "id": "3449fc21",
   "metadata": {},
   "outputs": [],
   "source": []
  }
 ],
 "metadata": {
  "kernelspec": {
   "display_name": ".venv",
   "language": "python",
   "name": "python3"
  },
  "language_info": {
   "codemirror_mode": {
    "name": "ipython",
    "version": 3
   },
   "file_extension": ".py",
   "mimetype": "text/x-python",
   "name": "python",
   "nbconvert_exporter": "python",
   "pygments_lexer": "ipython3",
   "version": "3.12.2"
  }
 },
 "nbformat": 4,
 "nbformat_minor": 5
}
