{
 "cells": [
  {
   "cell_type": "code",
   "execution_count": 1,
   "id": "f28ea235",
   "metadata": {},
   "outputs": [
    {
     "name": "stderr",
     "output_type": "stream",
     "text": [
      "/Users/Shared/Py-приколы/Sandbox/.venv/lib/python3.12/site-packages/tqdm/auto.py:21: TqdmWarning: IProgress not found. Please update jupyter and ipywidgets. See https://ipywidgets.readthedocs.io/en/stable/user_install.html\n",
      "  from .autonotebook import tqdm as notebook_tqdm\n"
     ]
    }
   ],
   "source": [
    "import pandas as pd\n",
    "import numpy as np\n",
    "import seaborn as sns\n",
    "import plotly.express as px\n",
    "import matplotlib.pyplot as plt\n",
    "from scipy.stats import gaussian_kde\n",
    "\n",
    "\n",
    "from imblearn.over_sampling import RandomOverSampler\n",
    "from lightautoml.automl.presets.tabular_presets import TabularAutoML, TabularUtilizedAutoML\n",
    "from lightautoml.tasks import Task\n",
    "from sklearn.model_selection import train_test_split\n",
    "from sklearn.multiclass import OneVsRestClassifier\n",
    "from sklearn.preprocessing import label_binarize\n",
    "from sklearn.metrics import (\n",
    "    accuracy_score,\n",
    "    f1_score,\n",
    "    precision_score,\n",
    "    precision_recall_curve,\n",
    "    recall_score,\n",
    "    log_loss,\n",
    "    confusion_matrix,\n",
    "    classification_report,\n",
    "    average_precision_score,\n",
    "    auc\n",
    ")\n",
    "import time\n",
    "import joblib\n",
    "import multiprocessing\n",
    "multiprocessing.set_start_method(\"spawn\", force=True)\n",
    "\n",
    "np.random.seed(0)"
   ]
  },
  {
   "cell_type": "code",
   "execution_count": 2,
   "id": "80b3234a",
   "metadata": {},
   "outputs": [],
   "source": [
    "df = pd.read_csv(\"Dataset_2_DATA.csv\", encoding='cp1251')[lambda df: df['DAGSOORT'] == 1]\n",
    "df_d = pd.read_csv(\"Dataset_2_DESCRIPTION.csv\", encoding='cp1251')"
   ]
  },
  {
   "cell_type": "markdown",
   "id": "6304b86b",
   "metadata": {},
   "source": [
    "## Подготовка данных\n",
    "\n",
    "### 1. Обработка пропущенных значений "
   ]
  },
  {
   "cell_type": "code",
   "execution_count": 3,
   "id": "10608b74",
   "metadata": {},
   "outputs": [
    {
     "name": "stdout",
     "output_type": "stream",
     "text": [
      "Есть ли NaN в датафрейме? False\n",
      "KREISDUUR        object\n",
      "PARKEERKOSTEN    object\n",
      "dtype: object\n",
      "Уникальные значения в KREISDUUR:\n",
      "['11' '8' '7' '5' '4' '3' '10' '6' '2' '9' ' ' '1']\n",
      "Уникальные значения в PARKEERKOSTEN:\n",
      "['0' '9' '3' '11' ' ' '13' '5' '4' '14' '12' '16' '10' '7' '2' '6' '1' '8']\n"
     ]
    }
   ],
   "source": [
    "# Проверяем датафрейм на содержание NaN-значений\n",
    "has_any_missing = df.isna().any().any()\n",
    "print(\"Есть ли NaN в датафрейме?\", has_any_missing)\n",
    "\n",
    "# Может показаться, что пропусков нет, но если проверить столбцы на соотвествие типу object можно понять,\n",
    "# что два столбца потенциально могут содержать \"нетипичные\" пропуски.\n",
    "print(df.dtypes[df.dtypes != 'int64'])\n",
    "\n",
    "# Проверим уникальные значения столбцов KREISDUUR и PARKEERKOSTEN\n",
    "for col in df.select_dtypes(include=['object']).columns:\n",
    "    print(f\"Уникальные значения в {col}:\")\n",
    "    print(df[col].unique())\n",
    "\n",
    "# Бинго! Пропуски в наборе данных обозначаются одним пробелом(' ')"
   ]
  },
  {
   "cell_type": "code",
   "execution_count": 4,
   "id": "83bb2fb8",
   "metadata": {},
   "outputs": [],
   "source": [
    "# Заменяем пропуски на NaN-значение\n",
    "df = df.replace({' ': np.nan})\n",
    "\n",
    "# Функция для замены пропусков модой (или средним) значением\n",
    "def fill_with_mode(group):\n",
    "    mode_vals = group.mode()\n",
    "    if not mode_vals.empty:\n",
    "        return group.fillna(mode_vals.iloc[0])\n",
    "    return group.fillna(group.mean())\n",
    "\n",
    "# Заменяем пропуски в найденных столбцах\n",
    "cols_to_fill = ['KREISDUUR', 'PARKEERKOSTEN']\n",
    "for col in cols_to_fill:\n",
    "    df[col] = df.groupby('PERSID')[col].transform(fill_with_mode)"
   ]
  },
  {
   "cell_type": "markdown",
   "id": "24ff5c63",
   "metadata": {},
   "source": [
    "### 2. Удаление дубликатов"
   ]
  },
  {
   "cell_type": "code",
   "execution_count": 5,
   "id": "c229d9f1",
   "metadata": {},
   "outputs": [
    {
     "data": {
      "text/html": [
       "<div>\n",
       "<style scoped>\n",
       "    .dataframe tbody tr th:only-of-type {\n",
       "        vertical-align: middle;\n",
       "    }\n",
       "\n",
       "    .dataframe tbody tr th {\n",
       "        vertical-align: top;\n",
       "    }\n",
       "\n",
       "    .dataframe thead th {\n",
       "        text-align: right;\n",
       "    }\n",
       "</style>\n",
       "<table border=\"1\" class=\"dataframe\">\n",
       "  <thead>\n",
       "    <tr style=\"text-align: right;\">\n",
       "      <th></th>\n",
       "      <th>HHID</th>\n",
       "      <th>PERSID</th>\n",
       "      <th>VPLID</th>\n",
       "      <th>RitID</th>\n",
       "      <th>HH_VALID</th>\n",
       "      <th>P_VALID</th>\n",
       "      <th>KHVM</th>\n",
       "      <th>WEGGEWEEST</th>\n",
       "      <th>VERTREKP</th>\n",
       "      <th>AANTVPL</th>\n",
       "      <th>...</th>\n",
       "      <th>HHAUTO_N</th>\n",
       "      <th>HHAUTO</th>\n",
       "      <th>HHBESTEL</th>\n",
       "      <th>HHHYBRID</th>\n",
       "      <th>HHMOTOR</th>\n",
       "      <th>HHBROM</th>\n",
       "      <th>HHSNOR</th>\n",
       "      <th>HHFIETS</th>\n",
       "      <th>HHVOUWFIETS</th>\n",
       "      <th>HHEBIKE</th>\n",
       "    </tr>\n",
       "  </thead>\n",
       "  <tbody>\n",
       "    <tr>\n",
       "      <th>0</th>\n",
       "      <td>30055622</td>\n",
       "      <td>3005562201</td>\n",
       "      <td>13957101</td>\n",
       "      <td>1395710101</td>\n",
       "      <td>2</td>\n",
       "      <td>3</td>\n",
       "      <td>2</td>\n",
       "      <td>1</td>\n",
       "      <td>2</td>\n",
       "      <td>2</td>\n",
       "      <td>...</td>\n",
       "      <td>3</td>\n",
       "      <td>1</td>\n",
       "      <td>0</td>\n",
       "      <td>0</td>\n",
       "      <td>1</td>\n",
       "      <td>0</td>\n",
       "      <td>0</td>\n",
       "      <td>1</td>\n",
       "      <td>0</td>\n",
       "      <td>1</td>\n",
       "    </tr>\n",
       "    <tr>\n",
       "      <th>1</th>\n",
       "      <td>30055622</td>\n",
       "      <td>3005562201</td>\n",
       "      <td>13957102</td>\n",
       "      <td>1395710201</td>\n",
       "      <td>2</td>\n",
       "      <td>3</td>\n",
       "      <td>2</td>\n",
       "      <td>1</td>\n",
       "      <td>2</td>\n",
       "      <td>2</td>\n",
       "      <td>...</td>\n",
       "      <td>3</td>\n",
       "      <td>1</td>\n",
       "      <td>0</td>\n",
       "      <td>0</td>\n",
       "      <td>1</td>\n",
       "      <td>0</td>\n",
       "      <td>0</td>\n",
       "      <td>1</td>\n",
       "      <td>0</td>\n",
       "      <td>1</td>\n",
       "    </tr>\n",
       "    <tr>\n",
       "      <th>2</th>\n",
       "      <td>30055622</td>\n",
       "      <td>3005562201</td>\n",
       "      <td>13957201</td>\n",
       "      <td>1395720101</td>\n",
       "      <td>2</td>\n",
       "      <td>3</td>\n",
       "      <td>1</td>\n",
       "      <td>1</td>\n",
       "      <td>2</td>\n",
       "      <td>4</td>\n",
       "      <td>...</td>\n",
       "      <td>3</td>\n",
       "      <td>1</td>\n",
       "      <td>0</td>\n",
       "      <td>0</td>\n",
       "      <td>1</td>\n",
       "      <td>0</td>\n",
       "      <td>0</td>\n",
       "      <td>1</td>\n",
       "      <td>0</td>\n",
       "      <td>1</td>\n",
       "    </tr>\n",
       "    <tr>\n",
       "      <th>3</th>\n",
       "      <td>30055622</td>\n",
       "      <td>3005562201</td>\n",
       "      <td>13957202</td>\n",
       "      <td>1395720201</td>\n",
       "      <td>2</td>\n",
       "      <td>3</td>\n",
       "      <td>1</td>\n",
       "      <td>1</td>\n",
       "      <td>2</td>\n",
       "      <td>4</td>\n",
       "      <td>...</td>\n",
       "      <td>3</td>\n",
       "      <td>1</td>\n",
       "      <td>0</td>\n",
       "      <td>0</td>\n",
       "      <td>1</td>\n",
       "      <td>0</td>\n",
       "      <td>0</td>\n",
       "      <td>1</td>\n",
       "      <td>0</td>\n",
       "      <td>1</td>\n",
       "    </tr>\n",
       "    <tr>\n",
       "      <th>7</th>\n",
       "      <td>30356310</td>\n",
       "      <td>3035631001</td>\n",
       "      <td>17204101</td>\n",
       "      <td>1720410101</td>\n",
       "      <td>2</td>\n",
       "      <td>3</td>\n",
       "      <td>8</td>\n",
       "      <td>1</td>\n",
       "      <td>2</td>\n",
       "      <td>1</td>\n",
       "      <td>...</td>\n",
       "      <td>2</td>\n",
       "      <td>1</td>\n",
       "      <td>0</td>\n",
       "      <td>0</td>\n",
       "      <td>0</td>\n",
       "      <td>0</td>\n",
       "      <td>0</td>\n",
       "      <td>0</td>\n",
       "      <td>0</td>\n",
       "      <td>1</td>\n",
       "    </tr>\n",
       "    <tr>\n",
       "      <th>...</th>\n",
       "      <td>...</td>\n",
       "      <td>...</td>\n",
       "      <td>...</td>\n",
       "      <td>...</td>\n",
       "      <td>...</td>\n",
       "      <td>...</td>\n",
       "      <td>...</td>\n",
       "      <td>...</td>\n",
       "      <td>...</td>\n",
       "      <td>...</td>\n",
       "      <td>...</td>\n",
       "      <td>...</td>\n",
       "      <td>...</td>\n",
       "      <td>...</td>\n",
       "      <td>...</td>\n",
       "      <td>...</td>\n",
       "      <td>...</td>\n",
       "      <td>...</td>\n",
       "      <td>...</td>\n",
       "      <td>...</td>\n",
       "      <td>...</td>\n",
       "    </tr>\n",
       "    <tr>\n",
       "      <th>7304</th>\n",
       "      <td>30862294</td>\n",
       "      <td>3086229401</td>\n",
       "      <td>19042102</td>\n",
       "      <td>1904210201</td>\n",
       "      <td>2</td>\n",
       "      <td>3</td>\n",
       "      <td>1</td>\n",
       "      <td>1</td>\n",
       "      <td>2</td>\n",
       "      <td>5</td>\n",
       "      <td>...</td>\n",
       "      <td>1</td>\n",
       "      <td>1</td>\n",
       "      <td>0</td>\n",
       "      <td>0</td>\n",
       "      <td>0</td>\n",
       "      <td>0</td>\n",
       "      <td>0</td>\n",
       "      <td>1</td>\n",
       "      <td>0</td>\n",
       "      <td>0</td>\n",
       "    </tr>\n",
       "    <tr>\n",
       "      <th>7306</th>\n",
       "      <td>30862294</td>\n",
       "      <td>3086229401</td>\n",
       "      <td>19042103</td>\n",
       "      <td>1904210301</td>\n",
       "      <td>2</td>\n",
       "      <td>3</td>\n",
       "      <td>7</td>\n",
       "      <td>1</td>\n",
       "      <td>2</td>\n",
       "      <td>5</td>\n",
       "      <td>...</td>\n",
       "      <td>1</td>\n",
       "      <td>1</td>\n",
       "      <td>0</td>\n",
       "      <td>0</td>\n",
       "      <td>0</td>\n",
       "      <td>0</td>\n",
       "      <td>0</td>\n",
       "      <td>1</td>\n",
       "      <td>0</td>\n",
       "      <td>0</td>\n",
       "    </tr>\n",
       "    <tr>\n",
       "      <th>7307</th>\n",
       "      <td>30862294</td>\n",
       "      <td>3086229401</td>\n",
       "      <td>19042104</td>\n",
       "      <td>1904210401</td>\n",
       "      <td>2</td>\n",
       "      <td>3</td>\n",
       "      <td>7</td>\n",
       "      <td>1</td>\n",
       "      <td>2</td>\n",
       "      <td>5</td>\n",
       "      <td>...</td>\n",
       "      <td>1</td>\n",
       "      <td>1</td>\n",
       "      <td>0</td>\n",
       "      <td>0</td>\n",
       "      <td>0</td>\n",
       "      <td>0</td>\n",
       "      <td>0</td>\n",
       "      <td>1</td>\n",
       "      <td>0</td>\n",
       "      <td>0</td>\n",
       "    </tr>\n",
       "    <tr>\n",
       "      <th>7308</th>\n",
       "      <td>30862294</td>\n",
       "      <td>3086229401</td>\n",
       "      <td>19042201</td>\n",
       "      <td>1904220101</td>\n",
       "      <td>2</td>\n",
       "      <td>3</td>\n",
       "      <td>1</td>\n",
       "      <td>1</td>\n",
       "      <td>2</td>\n",
       "      <td>3</td>\n",
       "      <td>...</td>\n",
       "      <td>1</td>\n",
       "      <td>1</td>\n",
       "      <td>0</td>\n",
       "      <td>0</td>\n",
       "      <td>0</td>\n",
       "      <td>0</td>\n",
       "      <td>0</td>\n",
       "      <td>1</td>\n",
       "      <td>0</td>\n",
       "      <td>0</td>\n",
       "    </tr>\n",
       "    <tr>\n",
       "      <th>7309</th>\n",
       "      <td>30862294</td>\n",
       "      <td>3086229401</td>\n",
       "      <td>19042105</td>\n",
       "      <td>1904210501</td>\n",
       "      <td>2</td>\n",
       "      <td>3</td>\n",
       "      <td>1</td>\n",
       "      <td>1</td>\n",
       "      <td>2</td>\n",
       "      <td>5</td>\n",
       "      <td>...</td>\n",
       "      <td>1</td>\n",
       "      <td>1</td>\n",
       "      <td>0</td>\n",
       "      <td>0</td>\n",
       "      <td>0</td>\n",
       "      <td>0</td>\n",
       "      <td>0</td>\n",
       "      <td>1</td>\n",
       "      <td>0</td>\n",
       "      <td>0</td>\n",
       "    </tr>\n",
       "  </tbody>\n",
       "</table>\n",
       "<p>5700 rows × 56 columns</p>\n",
       "</div>"
      ],
      "text/plain": [
       "          HHID      PERSID     VPLID       RitID  HH_VALID  P_VALID  KHVM  \\\n",
       "0     30055622  3005562201  13957101  1395710101         2        3     2   \n",
       "1     30055622  3005562201  13957102  1395710201         2        3     2   \n",
       "2     30055622  3005562201  13957201  1395720101         2        3     1   \n",
       "3     30055622  3005562201  13957202  1395720201         2        3     1   \n",
       "7     30356310  3035631001  17204101  1720410101         2        3     8   \n",
       "...        ...         ...       ...         ...       ...      ...   ...   \n",
       "7304  30862294  3086229401  19042102  1904210201         2        3     1   \n",
       "7306  30862294  3086229401  19042103  1904210301         2        3     7   \n",
       "7307  30862294  3086229401  19042104  1904210401         2        3     7   \n",
       "7308  30862294  3086229401  19042201  1904220101         2        3     1   \n",
       "7309  30862294  3086229401  19042105  1904210501         2        3     1   \n",
       "\n",
       "      WEGGEWEEST  VERTREKP  AANTVPL  ...  HHAUTO_N  HHAUTO  HHBESTEL  \\\n",
       "0              1         2        2  ...         3       1         0   \n",
       "1              1         2        2  ...         3       1         0   \n",
       "2              1         2        4  ...         3       1         0   \n",
       "3              1         2        4  ...         3       1         0   \n",
       "7              1         2        1  ...         2       1         0   \n",
       "...          ...       ...      ...  ...       ...     ...       ...   \n",
       "7304           1         2        5  ...         1       1         0   \n",
       "7306           1         2        5  ...         1       1         0   \n",
       "7307           1         2        5  ...         1       1         0   \n",
       "7308           1         2        3  ...         1       1         0   \n",
       "7309           1         2        5  ...         1       1         0   \n",
       "\n",
       "      HHHYBRID  HHMOTOR  HHBROM  HHSNOR  HHFIETS  HHVOUWFIETS  HHEBIKE  \n",
       "0            0        1       0       0        1            0        1  \n",
       "1            0        1       0       0        1            0        1  \n",
       "2            0        1       0       0        1            0        1  \n",
       "3            0        1       0       0        1            0        1  \n",
       "7            0        0       0       0        0            0        1  \n",
       "...        ...      ...     ...     ...      ...          ...      ...  \n",
       "7304         0        0       0       0        1            0        0  \n",
       "7306         0        0       0       0        1            0        0  \n",
       "7307         0        0       0       0        1            0        0  \n",
       "7308         0        0       0       0        1            0        0  \n",
       "7309         0        0       0       0        1            0        0  \n",
       "\n",
       "[5700 rows x 56 columns]"
      ]
     },
     "metadata": {},
     "output_type": "display_data"
    },
    {
     "name": "stdout",
     "output_type": "stream",
     "text": [
      "<class 'pandas.core.frame.DataFrame'>\n",
      "Index: 5700 entries, 0 to 7309\n",
      "Data columns (total 56 columns):\n",
      " #   Column                   Non-Null Count  Dtype \n",
      "---  ------                   --------------  ----- \n",
      " 0   HHID                     5700 non-null   int64 \n",
      " 1   PERSID                   5700 non-null   int64 \n",
      " 2   VPLID                    5700 non-null   int64 \n",
      " 3   RitID                    5700 non-null   int64 \n",
      " 4   HH_VALID                 5700 non-null   int64 \n",
      " 5   P_VALID                  5700 non-null   int64 \n",
      " 6   KHVM                     5700 non-null   int64 \n",
      " 7   WEGGEWEEST               5700 non-null   int64 \n",
      " 8   VERTREKP                 5700 non-null   int64 \n",
      " 9   AANTVPL                  5700 non-null   int64 \n",
      " 10  VPLDAGNR                 5700 non-null   int64 \n",
      " 11  VERPL                    5700 non-null   int64 \n",
      " 12  VERPLNR                  5700 non-null   int64 \n",
      " 13  TOER                     5700 non-null   int64 \n",
      " 14  TOER_TYPE                5700 non-null   int64 \n",
      " 15  AANTRIT                  5700 non-null   int64 \n",
      " 16  KMOTIEF                  5700 non-null   int64 \n",
      " 17  VERTPROV                 5700 non-null   int64 \n",
      " 18  AANKPROV                 5700 non-null   int64 \n",
      " 19  KAFSTV                   5700 non-null   int64 \n",
      " 20  KVERTTIJD                5700 non-null   int64 \n",
      " 21  KREISDUUR                5700 non-null   object\n",
      " 22  ROLAUTO                  5700 non-null   int64 \n",
      " 23  PARKEERKOSTEN            5700 non-null   object\n",
      " 24  VERTRAGING               5700 non-null   int64 \n",
      " 25  DAGSOORT                 5700 non-null   int64 \n",
      " 26  OORDEEL_AUTO             5700 non-null   int64 \n",
      " 27  OORDEEL_TREIN            5700 non-null   int64 \n",
      " 28  OORDEEL_BTM              5700 non-null   int64 \n",
      " 29  OORDEEL_FIETS            5700 non-null   int64 \n",
      " 30  OORDEEL_BROMMER          5700 non-null   int64 \n",
      " 31  OORDEEL_LOPEN            5700 non-null   int64 \n",
      " 32  GEBRUIK_AUTO_STELLING3   5700 non-null   int64 \n",
      " 33  GEBRUIK_AUTO_STELLING4   5700 non-null   int64 \n",
      " 34  GEBRUIK_TREIN_STELLING3  5700 non-null   int64 \n",
      " 35  GEBRUIK_TREIN_STELLING4  5700 non-null   int64 \n",
      " 36  GEBRUIK_BTM_STELLING3    5700 non-null   int64 \n",
      " 37  GEBRUIK_BTM_STELLING4    5700 non-null   int64 \n",
      " 38  GEBRUIK_FIETS_STELLING2  5700 non-null   int64 \n",
      " 39  GEBRUIK_FIETS_STELLING3  5700 non-null   int64 \n",
      " 40  GEBRUIK_LOPEN_STELLING3  5700 non-null   int64 \n",
      " 41  GEBRUIK_LOPEN_STELLING4  5700 non-null   int64 \n",
      " 42  HHPERS                   5700 non-null   int64 \n",
      " 43  HHSAM                    5700 non-null   int64 \n",
      " 44  N_KIND                   5700 non-null   int64 \n",
      " 45  HHBRUTOINK2_w5           5700 non-null   int64 \n",
      " 46  HHAUTO_N                 5700 non-null   int64 \n",
      " 47  HHAUTO                   5700 non-null   int64 \n",
      " 48  HHBESTEL                 5700 non-null   int64 \n",
      " 49  HHHYBRID                 5700 non-null   int64 \n",
      " 50  HHMOTOR                  5700 non-null   int64 \n",
      " 51  HHBROM                   5700 non-null   int64 \n",
      " 52  HHSNOR                   5700 non-null   int64 \n",
      " 53  HHFIETS                  5700 non-null   int64 \n",
      " 54  HHVOUWFIETS              5700 non-null   int64 \n",
      " 55  HHEBIKE                  5700 non-null   int64 \n",
      "dtypes: int64(54), object(2)\n",
      "memory usage: 2.5+ MB\n",
      "None\n"
     ]
    }
   ],
   "source": [
    "df = df.drop_duplicates()\n",
    "display(df) # Как можно заметить, количество строк не изменилось\n",
    "print(df.info())"
   ]
  },
  {
   "cell_type": "markdown",
   "id": "188c67d2",
   "metadata": {},
   "source": [
    "### 3. Приведение типов данных"
   ]
  },
  {
   "cell_type": "code",
   "execution_count": 6,
   "id": "fceccacf",
   "metadata": {},
   "outputs": [
    {
     "name": "stdout",
     "output_type": "stream",
     "text": [
      "<class 'pandas.core.frame.DataFrame'>\n",
      "Index: 5700 entries, 0 to 7309\n",
      "Data columns (total 52 columns):\n",
      " #   Column                   Non-Null Count  Dtype   \n",
      "---  ------                   --------------  -----   \n",
      " 0   HH_VALID                 5700 non-null   category\n",
      " 1   P_VALID                  5700 non-null   category\n",
      " 2   KHVM                     5700 non-null   category\n",
      " 3   WEGGEWEEST               5700 non-null   category\n",
      " 4   VERTREKP                 5700 non-null   category\n",
      " 5   AANTVPL                  5700 non-null   category\n",
      " 6   VPLDAGNR                 5700 non-null   category\n",
      " 7   VERPL                    5700 non-null   category\n",
      " 8   VERPLNR                  5700 non-null   category\n",
      " 9   TOER                     5700 non-null   category\n",
      " 10  TOER_TYPE                5700 non-null   category\n",
      " 11  AANTRIT                  5700 non-null   category\n",
      " 12  KMOTIEF                  5700 non-null   category\n",
      " 13  VERTPROV                 5700 non-null   category\n",
      " 14  AANKPROV                 5700 non-null   category\n",
      " 15  KAFSTV                   5700 non-null   category\n",
      " 16  KVERTTIJD                5700 non-null   category\n",
      " 17  KREISDUUR                5700 non-null   category\n",
      " 18  ROLAUTO                  5700 non-null   category\n",
      " 19  PARKEERKOSTEN            5700 non-null   category\n",
      " 20  VERTRAGING               5700 non-null   category\n",
      " 21  DAGSOORT                 5700 non-null   category\n",
      " 22  OORDEEL_AUTO             5700 non-null   category\n",
      " 23  OORDEEL_TREIN            5700 non-null   category\n",
      " 24  OORDEEL_BTM              5700 non-null   category\n",
      " 25  OORDEEL_FIETS            5700 non-null   category\n",
      " 26  OORDEEL_BROMMER          5700 non-null   category\n",
      " 27  OORDEEL_LOPEN            5700 non-null   category\n",
      " 28  GEBRUIK_AUTO_STELLING3   5700 non-null   category\n",
      " 29  GEBRUIK_AUTO_STELLING4   5700 non-null   category\n",
      " 30  GEBRUIK_TREIN_STELLING3  5700 non-null   category\n",
      " 31  GEBRUIK_TREIN_STELLING4  5700 non-null   category\n",
      " 32  GEBRUIK_BTM_STELLING3    5700 non-null   category\n",
      " 33  GEBRUIK_BTM_STELLING4    5700 non-null   category\n",
      " 34  GEBRUIK_FIETS_STELLING2  5700 non-null   category\n",
      " 35  GEBRUIK_FIETS_STELLING3  5700 non-null   category\n",
      " 36  GEBRUIK_LOPEN_STELLING3  5700 non-null   category\n",
      " 37  GEBRUIK_LOPEN_STELLING4  5700 non-null   category\n",
      " 38  HHPERS                   5700 non-null   category\n",
      " 39  HHSAM                    5700 non-null   category\n",
      " 40  N_KIND                   5700 non-null   category\n",
      " 41  HHBRUTOINK2_w5           5700 non-null   category\n",
      " 42  HHAUTO_N                 5700 non-null   category\n",
      " 43  HHAUTO                   5700 non-null   category\n",
      " 44  HHBESTEL                 5700 non-null   category\n",
      " 45  HHHYBRID                 5700 non-null   category\n",
      " 46  HHMOTOR                  5700 non-null   category\n",
      " 47  HHBROM                   5700 non-null   category\n",
      " 48  HHSNOR                   5700 non-null   category\n",
      " 49  HHFIETS                  5700 non-null   category\n",
      " 50  HHVOUWFIETS              5700 non-null   category\n",
      " 51  HHEBIKE                  5700 non-null   category\n",
      "dtypes: category(52)\n",
      "memory usage: 347.7 KB\n",
      "None\n"
     ]
    }
   ],
   "source": [
    "# Для качественной работы LightAutoML нужно перевести int64-столбцы к category\n",
    "# Получение признаков и их типов\n",
    "var_types = df_d[['Variable', 'Measurement_level']].drop_duplicates()\n",
    "\n",
    "# Сопоставим с колонками датасета\n",
    "matched_columns = pd.DataFrame(df.columns, columns=['Variable'])\n",
    "merged = matched_columns.merge(var_types, on='Variable', how='left')\n",
    "\n",
    "# Делаем списки переменных\n",
    "nominal_cols = list(merged[merged['Measurement_level'] == 'Nominal']['Variable'])\n",
    "ordinal_cols = list(merged[merged['Measurement_level'] == 'Ordinal']['Variable'])\n",
    "scale_cols = list(merged[merged['Measurement_level'] == 'Scale']['Variable'])\n",
    "\n",
    "# Удаление юзлесс переменных с типовм Scale\n",
    "id_cols = ['HHID', 'PERSID', 'VPLID', 'RitID']\n",
    "df = df.drop(columns=id_cols, errors='ignore')\n",
    "\n",
    "# Приведение типов данных в соответствии с файлом DECRIPTION\n",
    "for col in nominal_cols + ordinal_cols:\n",
    "    if col in df.columns:\n",
    "        df[col] = df[col].astype('category')\n",
    "\n",
    "print(df.info())"
   ]
  },
  {
   "cell_type": "markdown",
   "id": "38dc021d",
   "metadata": {},
   "source": [
    "#### **Целевая переменная (таргет):**\n",
    "**`KHVM`** — класс основного вида транспорта для поездки. \n",
    "\n",
    "Категории:\n",
    "1. Car as driver (Водитель автомобиля)\n",
    "2. Car as passenger (Пассажир автомобиля)\n",
    "3. Train (Поезд)\n",
    "4. Bus/tram/metro (Автобус/трамвай/метро)\n",
    "5. Scooter/moped (Скутер/мопед)\n",
    "6. Bicycle (Велосипед)\n",
    "7. Walking (Пешком)\n",
    "8. Other (Другое).\n",
    "\n",
    "#### 1. **Демографические и домохозяйственные данные:**\n",
    "- **`HHSAM`** — состав домохозяйства (например, наличие детей может влиять на выбор транспорта).\n",
    "- **`HHBRUTOINK2_w5`** — доход домохозяйства (высокий доход может коррелировать с использованием автомобиля).\n",
    "- **`HHAUTO`, `HHBESTEL`, `HHHYBRID`, `HHMOTOR`, `HHBROM`, `HHSNOR`, `HHFIETS`, `HHVOUWFIETS`, `HHEBIKE`** — Наличие транспортных средств.\n",
    "\n",
    "#### 2. **Географические и инфраструктурные данные:**\n",
    "- **`STED_GM`** — уровень урбанизации (влияет на доступность общественного транспорта).\n",
    "- **`PROV`** — провинция (региональные различия в транспортных привычках).\n",
    "- **`vlokatie_station`** — расстояние до ближайшей ж/д станции.\n",
    "- **`vlokatie_bushalte4xpu`** — расстояние до часто ходящего автобуса.\n",
    "\n",
    "#### 3. **Характеристики поездки:**\n",
    "- **`KAFSTV`** — класс расстояния поездки (короткие поездки чаще на велосипеде/пешком).\n",
    "- **`KVERTTIJD`** — время начала поездки (пиковые часы могут влиять на выбор транспорта).\n",
    "- **`DOEL`** — цель поездки (например, работа, шопинг).\n",
    "- **`MOTIEF`** — мотив поездки (деловой, leisure и т.д.).\n",
    "- **`TOER`** — является ли поездка круговой (может влиять на выбор транспорта).\n",
    "\n",
    "#### 4. **Личные предпочтения и отношение к транспорту:**\n",
    "- **`OORDEEL_AUTO`** — Оценка автомобиля.  \n",
    "- **`OORDEEL_TREIN`** — Оценка поезда.  \n",
    "- **`OORDEEL_BTM`** — Оценка общественного транспорта.  \n",
    "- **`OORDEEL_FIETS`** — Оценка велосипеда.  \n",
    "- **`OORDEEL_BROMMER`** — Оценка мопеда. \n",
    "- **`OORDEEL_LOPEN`** — Оценка ходьбы.\n",
    "- **`GEBRUIK_AUTO_STELLING3` / `GEBRUIK_AUTO_STELLING4`** — Восприятие авто (экономия времени, безопасность). \n",
    "- **`GEBRUIK_TREIN_STELLING3` / `GEBRUIK_TREIN_STELLING4`** — Восприятие поезда.\n",
    "- **`GEBRUIK_BTM_STELLING3` / `GEBRUIK_BTM_STELLING4`** — Восприятие общественного транспорта.\n",
    "- **`GEBRUIK_FIETS_STELLING2` / `GEBRUIK_FIETS_STELLING3`** — Восприятие велосипеда.\n",
    "- **`GEBRUIK_LOPEN_STELLING3` / `GEBRUIK_LOPEN_STELLING4`** — Восприятие ходьбы.\n",
    "\n",
    "#### 5. **Данные о транспортных средствах:**\n",
    "- **`ROLAUTO`** — роль в поездке (водитель/пассажир).\n",
    "- **`PARKEERKOSTEN`** — стоимость парковки (может влиять на решение использовать автомобиль)."
   ]
  },
  {
   "cell_type": "code",
   "execution_count": 7,
   "id": "d0b8f980",
   "metadata": {},
   "outputs": [
    {
     "data": {
      "application/vnd.plotly.v1+json": {
       "config": {
        "plotlyServerURL": "https://plot.ly"
       },
       "data": [
        {
         "coloraxis": "coloraxis",
         "hovertemplate": "x: %{x}<br>y: %{y}<br>color: %{z}<extra></extra>",
         "name": "0",
         "texttemplate": "%{z:.2f}",
         "type": "heatmap",
         "x": [
          "KHVM",
          "AANTVPL",
          "KAFSTV",
          "KMOTIEF",
          "TOER",
          "ROLAUTO",
          "OORDEEL_AUTO",
          "OORDEEL_TREIN",
          "OORDEEL_BTM",
          "OORDEEL_FIETS",
          "OORDEEL_BROMMER",
          "OORDEEL_LOPEN",
          "GEBRUIK_AUTO_STELLING3",
          "GEBRUIK_AUTO_STELLING4",
          "GEBRUIK_TREIN_STELLING3",
          "GEBRUIK_TREIN_STELLING4",
          "GEBRUIK_BTM_STELLING3",
          "GEBRUIK_BTM_STELLING4",
          "GEBRUIK_FIETS_STELLING2",
          "GEBRUIK_FIETS_STELLING3",
          "GEBRUIK_LOPEN_STELLING3",
          "GEBRUIK_LOPEN_STELLING4",
          "HHBRUTOINK2_w5",
          "HHAUTO",
          "HHPERS",
          "HHBESTEL",
          "HHHYBRID",
          "HHMOTOR",
          "HHBROM",
          "HHSNOR",
          "HHFIETS",
          "HHVOUWFIETS",
          "HHEBIKE"
         ],
         "xaxis": "x",
         "y": [
          "KHVM",
          "AANTVPL",
          "KAFSTV",
          "KMOTIEF",
          "TOER",
          "ROLAUTO",
          "OORDEEL_AUTO",
          "OORDEEL_TREIN",
          "OORDEEL_BTM",
          "OORDEEL_FIETS",
          "OORDEEL_BROMMER",
          "OORDEEL_LOPEN",
          "GEBRUIK_AUTO_STELLING3",
          "GEBRUIK_AUTO_STELLING4",
          "GEBRUIK_TREIN_STELLING3",
          "GEBRUIK_TREIN_STELLING4",
          "GEBRUIK_BTM_STELLING3",
          "GEBRUIK_BTM_STELLING4",
          "GEBRUIK_FIETS_STELLING2",
          "GEBRUIK_FIETS_STELLING3",
          "GEBRUIK_LOPEN_STELLING3",
          "GEBRUIK_LOPEN_STELLING4",
          "HHBRUTOINK2_w5",
          "HHAUTO",
          "HHPERS",
          "HHBESTEL",
          "HHHYBRID",
          "HHMOTOR",
          "HHBROM",
          "HHSNOR",
          "HHFIETS",
          "HHVOUWFIETS",
          "HHEBIKE"
         ],
         "yaxis": "y",
         "z": {
          "bdata": "AAAAAAAA8D8HQbU/+VSNPwPQGAOsjtu/n2aZeeM5qT/b6f+iuKPKP/iVOguRw+e/DySl/LcGxr+iEGJBjX28P64LN5DDmLI/q0G1FgB9uz/6Ly6UH1yTP13TV2y8cLI/txDc7u0TqL/4KUnGOimwvzLf7mKfz7c/5XL5pc6bnD8cQ30xXsewP4+DY8B8RJE/vDzguf5luz/uK/mETGvGPwwxLdk1m64/UgjwO/7upj9ED1Whjk2hvwvBxuf7BMO/vkr0yEtCpb/z7T6EoJyJP/xZZhbeS4m/ozk8KOxka7/Qy2eEaiaQPyx8dQJlm6U/rtOdyWZniL9N69AUoTyBP5a9/gSILX0/B0G1P/lUjT8AAAAAAADwPykVsKNx+dS/1OyQpa5A1D+ex3xoCdmZP/A6chvTDbY/FAlePjV1qj+BD6gt6EOlv321UIwUkJS/BjdOUEEttD8wW4FHV9qGP/Y3Qz6gSHQ/Gd9FRq+hpz+eaR4354Wjv50OX7C777q/OWiJym5DoL9iNEDCRFmwv2L/lLsIPZk/yj7lIM9QZj+esoDZMoCMvyiPuyvHMrO/xGXuJ/pJpT8voMiIAh6iv2H8cqILg8A/8dzYv/Yrwj+myiIbYdSrvwF2E03SC6A/EuBSWVgpjb/K8RaWoGqbPxGvKC1Vxpy/XWVGPyAXqz9+gyNcFsKyP1Dqqb1V35w/A9AYA6yO278pFbCjcfnUvwAAAAAAAPA/auD5vD5A0b8mVtP1GUG0v/pWc3ML2sE/cKnFa3GMsj8tibxbNpZ6vw2xXIDXQpS/xopoMkzJur9fDhHqZZaZv9h+f7VGC5C/pIbwdZquYT8obQCqbCqwP2QNIUMQMKS/Bqn7dVDylT9robFWyvhAv/cBGVAjwqG/UMRnQI5Iqr97fZ7/mvXCv+bjZWrOKqG/+vRDY7POhD+84mU+YXaRP/t7xLGqcS8/N4FxnsGJqz+TpuByXem4P2XOItClhIy/e7L3eODPiD+RJUR4SM90P7nb5nYCS4q/fNCAkcz9rT8vjcPnm9amv4TUti7GM7C/n2aZeeM5qT/U7JClrkDUP2rg+bw+QNG/AAAAAAAA8D9pSKkMrUjNPxd0cw3qL7g/rFeivINBoj9i3TiNc797P28XqS64gZo/XukTwEMwtD+VyWhji8GmPxlHZHvXkVK/G6HsxngAkD/u1qexfv+Pv698o/0AxJK/VTfb2Uz9or9R3FYyIRxkvx9vPfloLoK/Jy+gn5TVhj9LjhKeUD6FP1uac5e52mE/PqKSZXNpqr9BPW1EwRCvv1s4M7G7a7A/kUtjfSPKeT8RMNqRL56kv8r6pZ1u+5o/kRNpDOECnr+WrKSuzfelv3kRejpnVZa/6I077inUsr+C9i1Mn5NYvyGzRZq5+qA/2+n/orijyj+ex3xoCdmZPyZW0/UZQbS/aUipDK1IzT8AAAAAAADwP9JERxaRObm/FBwwf3H7hr9a9oh+Qn9RP8LFV+a1rJK/RDhUvz8gtD+X0GL647uDP+6ukitKc7A/0YQAhfOvkT/5rAzkLTGBP3MMmWY/6YW/GIwgelb4kD91HbUkhDmYv2A6uYPNH40/fYvCnW0Zrj/LsmP6dIiePyaXwMRwmo4/J2X7Oo1WoD+XvlQjO6+rv7sbMTquynA/RurnbpLIQb+OkirW1pKsPznwzKmsNpw/+SJNKkkugr9rgRRYOgSRv323H7CHIaM/TE2OxcTVq78iysn4GdhHv+s7Wl6QrIE/+JU6C5HD57/wOnIb0w22P/pWc3ML2sE/F3RzDeovuD/SREcWkTm5vwAAAAAAAPA/v7PYCZX0yT8AN2opn9bAv9xH2V1nD7+/kruY/1/Gm78mvqu3fFZ2v1mU+z8jQ6m/vnEPik67tj8yiy/5ew2zP+QoFVO/hLi/JhK1LDdWsL886zgK9T2yv76/gqepvXS/8gePEtqzmL8aIOWEcr2+v6HMQkgXkJS/Vvyjm4njqb+2WR/0BPyXP2Ll0OMmn80/OxRmyVErrz/ekK2+RFaUv9UdHIKBgnI/fCf/20/QpT/zVs8G2lGAv8fpXtghWZS/Br561eG8pb9e+XWCTemHP495fFDcErQ/DySl/LcGxr8UCV4+NXWqP3CpxWtxjLI/rFeivINBoj8UHDB/cfuGv7+z2AmV9Mk/AAAAAAAA8D99kEt1V3zGv4TSrb+vy8e/4bnSYMjIwb83ddBaLdu6P2ElHd8+oMC/rDJ7WB121z8TI55YzV/ZP1dJe2zpMc2/Wv6WJkb5u79FCSRG0aDJvw2XUc1EDsC/JEH1KHesxL8LjQvGRjTHv9A5Z/r3C6y/BRc4ZuVxsb/k35vOvimoP/W3C87fHtU/V2L0oNKezz+OZrADLoyVP9tQNJ99mLE/a78f7L/QfT9UF49RPvG2P/MqVL8bw70/xhc0/h/iYj/yy9nBYVGsP9E6A5At3rc/ohBiQY19vD+BD6gt6EOlvy2JvFs2lnq/Yt04jXO/ez9a9oh+Qn9RPwA3aimf1sC/fZBLdVd8xr8AAAAAAADwPxuYzOohmeM/5Rfn4DMXzj/nZCSf//GtP3IqD92G7sw/F48v88s1s7+NQHsDMm7AvzCpoARo/d4/JJBJDy0G2T9uoJL7wsDSP4fU16UpJ80/UYCWH2ZIwz8s/YA67ePMP73ozU5Virw/o/br14Srwj/kxPqn+N+Kv5n9blLDF8W/lR2oZySPvb+fUO1d8IS1v8QHK4ydz5q/NsLQRB/2yL9LFd1guzu3vw1qjJJ0U3G/RDJKR0kHur9tMRUsP5dav+kzoUoCPqq/rgs3kMOYsj99tVCMFJCUvw2xXIDXQpS/bxepLriBmj/CxVfmtaySv9xH2V1nD7+/hNKtv6/Lx78bmMzqIZnjPwAAAAAAAPA/YgaIG1S90D/3U1/axvnJP5ktiD+38sE/zJr0f9WkvL8edfN5RQG8v41jmfr93tc/nLmxf2zJ0j82Z7YHB5TdPzqSOOrwXNo/rsl3ltjDwT/LkR3cywHRPy/R2TUFVcE/k/jQiWJwsT8FiIYY0eyOv6da/piMTM2/x3vgz9DyyL8isR72tEOSvxswEr2M0sA/leKlErwNwb9P5p8q5QOOv2XS6OUBgpA/sLvqzEQMsr99bgEdMZBmPzVdHW1+gJe/q0G1FgB9uz8GN05QQS20P8aKaDJMybq/XukTwEMwtD9EOFS/PyC0P5K7mP9fxpu/4bnSYMjIwb/lF+fgMxfOP2IGiBtUvdA/AAAAAAAA8D+jZHfs+Km+P4rJ4djJBNg/J2Ftppnbtb/Rf0APEdnEv9i91xsIpLk/QVrk+uSjuT8ujssq6R/FP2SQFKnKscU/ca2ASGpl4D+uIOVwU5fWP0c1Nvr5jps/vqejb6BNyz/8lEcwrq6qv7vq6OL0JKm/uhab1U+bwL+XAsUxLeG1v6fKBWm5XqE/N0NnwKj9mz8V2XS4hMeov2mZ7DntyaO/sg4uleTCcr+DVvuq1m6VP1jjtM8YOr8/+i8ulB9ckz8wW4FHV9qGP18OEepllpm/lcloY4vBpj+X0GL647uDPya+q7d8Vna/N3XQWi3buj/nZCSf//GtP/dTX9rG+ck/o2R37Pipvj8AAAAAAADwP3MEiMzqtKa/kXhjWNCEsb+n6yUowGusPyxWJYb3o8I/7emjlYHMtD9jsp0tCoTKP/flaFV6xsQ/wD3cdebbkT+2lz+5UiChPwHEmhhebbY/inYi1UoFoj86QXYrKh+mvy5+UxPsSbI/FbrXmvWVpz/306i5cduEvyvDdcvvoJo/XR7oMbICoD90ax5NKaWtP/WypSBIRcE/EKyU8WyAvL/WuT+CDv6dv7Q6xrWxsrM/XdNXbLxwsj/2N0M+oEh0P9h+f7VGC5C/GUdke9eRUr/urpIrSnOwP1mU+z8jQ6m/YSUd3z6gwL9yKg/dhu7MP5ktiD+38sE/isnh2MkE2D9zBIjM6rSmvwAAAAAAAPA/5eld9NvZmz+NqR7dD2axv2Rl53FsDbM/HI2GZXIvtD/IuKyDYIW+P3WVWcMwoKY/ASU5vJGs0T9J0Od3GOfJP0lANGPapMU/PRxyjyFs2T8grfv0zjGhP6mbP2vaCLm/0UJmYOvap7+6jj8dTNyTv4ecmtDmhq8/GcqaBiRjpz9o3Uu+9axgP96oAbeW/rK/R441kqQkhb+q2aIRVASWP857NvG0uq2/txDc7u0TqL8Z30VGr6GnP6SG8HWarmE/G6HsxngAkD/RhACF86+RP75xD4pOu7Y/rDJ7WB121z8Xjy/zyzWzv8ya9H/VpLy/J2Ftppnbtb+ReGNY0ISxv+XpXfTb2Zs/AAAAAAAA8D+8D2ZfLvbfPxjfnoCs/ae/vjO83BZ2rz/2O1e918K1v9fG2vbi1JG/GGa5h2ySsb+LOJqMY6yyv4TrU5mb1I8/NfzKKv+vtj/W0PGtDsiOvwUnAo5tV8c/IOgJX9npvz/TFaUzFW6gv9+6zi1U4K6/LvhSvJOBu7+nwWEJgPqRPx/+Bm3l7ao/Pf28rI5Npz/QYi5QTWO2P7Y0j2Lb/HW/+ClJxjopsL+eaR4354WjvyhtAKpsKrA/7tansX7/j7/5rAzkLTGBPzKLL/l7DbM/EyOeWM1f2T+NQHsDMm7Avx5183lFAby/0X9ADxHZxL+n6yUowGusP42pHt0PZrG/vA9mXy723z8AAAAAAADwP0SASet8QL+/uQGLwq0stD9j3UkvLem/vw6jCjUv25w/iAhyr6aXu7/Ys26OtIvFv1zlgoVVcJG/Tr07Vy4joD+bw3CWALiuPxQIylg8tcw/KZgvSFVFzD9k8cOb5F6mP6WXSSGpVJW/KsC93iX2lb+grtlQQxTAP5+dbkxBIbg/D5kZxZUPmD8ysqoQLM2uv3fG40F2AKi/Mt/uYp/Ptz+dDl+wu++6v2QNIUMQMKS/r3yj/QDEkr9zDJlmP+mFv+QoFVO/hLi/V0l7bOkxzb8wqaAEaP3eP41jmfr93tc/2L3XGwikuT8sViWG96PCP2Rl53FsDbM/GN+egKz9p79EgEnrfEC/vwAAAAAAAPA/9ciqpFXR2T9CzI4QpcjhP213Uo9tEdM/PomR4uycyD906v2nZpfXP/E8PMKcTtE/yKYoua94qz9sc5+rqOiov8bxx6SAZLy//0sfT+oOub9wy05jJUm4v3lG7Jkt37i/T5DhgHEvwL82n4GfoGPBv7MR2qC5Poy/M6HbNLqCxb9IiLCWW4agP9cpHzdRJkM/5XL5pc6bnD85aInKbkOgvwap+3VQ8pU/VTfb2Uz9or8YjCB6VviQPyYStSw3VrC/Wv6WJkb5u78kkEkPLQbZP5y5sX9sydI/QVrk+uSjuT/t6aOVgcy0PxyNhmVyL7Q/vjO83BZ2rz+5AYvCrSy0P/XIqqRV0dk/AAAAAAAA8D8TFLakI+3PP3kK/dDykt4/zb4ndtyToz/Rc2CE+ja6P5BNFn9vcY0/5KXOv3s0wz/6RgCOdl1xP8DU9cCVXY2/1P+B3qdXlr8jjyERR0Swv/GAXslcy1K/1A6h6EZUtb9umI6Io1u3v/TsskAJvYG/Bt7dUgMIpj+LH2MOEdGyP7PPnl+0Yr+/HEN9MV7HsD9iNEDCRFmwv2uhsVbK+EC/UdxWMiEcZL91HbUkhDmYvzzrOAr1PbK/RQkkRtGgyb9uoJL7wsDSPzZntgcHlN0/Lo7LKukfxT9jsp0tCoTKP8i4rINghb4/9jtXvdfCtb9j3UkvLem/v0LMjhClyOE/ExS2pCPtzz8AAAAAAADwPzPwC4E2DeI/9bl5QPrQyz+ihRU23H3UP/uEs4Ccb9M/B2Y2VUtjsz/Sq4ObFHWRvzqxtIbi6cG/nZKR/yXutr8mNbs9DlmPvwTgtYc11qs/xP3OvhmHt7/J06/wadC1v8E1aqhzL6C/d33TJv/htr8P7XtbwRaxPzss6bZ3tpy/j4NjwHxEkT9i/5S7CD2ZP/cBGVAjwqG/H289+Wgugr9gOrmDzR+NP76/gqepvXS/DZdRzUQOwL+H1NelKSfNPzqSOOrwXNo/ZJAUqcqxxT/35WhVesbEP3WVWcMwoKY/18ba9uLUkb8Oowo1L9ucP213Uo9tEdM/eQr90PKS3j8z8AuBNg3iPwAAAAAAAPA/ItSA6aQ/vT9NasgahbbAPyh9ki+EJME/kRLYVrhZxj9QK4g+V6+ov+BgXgzoiLO/p4n2QzVit79Oo7fAne+kv50gX3jP+p0/cEU8X1Uwmb9CcM88JFC1v/2+EsxHIZA/TQnN/FUjoD8wVYUlRfKyP1/+TsQOmZC/vDzguf5luz/KPuUgz1BmP1DEZ0COSKq/Jy+gn5TVhj99i8KdbRmuP/IHjxLas5i/JEH1KHesxL9RgJYfZkjDP67Jd5bYw8E/ca2ASGpl4D/APdx15tuRPwElObyRrNE/GGa5h2ySsb+ICHKvppe7vz6JkeLsnMg/zb4ndtyToz/1uXlA+tDLPyLUgOmkP70/AAAAAAAA8D/besqmuaLfP8A6xjp6o8Q/rwTZm7IDxD9evUaWhiqlv3sWpwf62nC/H92Ls8wjxr+RD4AVcxmlvyCAckAZonY/UyLPBUM/pD/5ai4WWYm6v8yRAa7bG6q/JTv1HwAYsL+yPSrYG6WTPxdbuBJ9XbI/7iv5hExrxj+esoDZMoCMv3t9nv+a9cK/S44SnlA+hT/LsmP6dIiePxog5YRyvb6/C40LxkY0x78s/YA67ePMP8uRHdzLAdE/riDlcFOX1j+2lz+5UiChP0nQ53cY58k/iziajGOssr/Ys26OtIvFv3Tq/adml9c/0XNghPo2uj+ihRU23H3UP01qyBqFtsA/23rKprmi3z8AAAAAAADwP8hhf9fMmdc/2xAI2abWyD/A/liuMcK0v+Ua8JoftsK/24YJ/3Rkxr9AvXhuXBuhv/dKAGmAQ4I/uX5F/9aEqb+ZnQtQA9evv9mdwRVSCqW///cDZORisb/GyvC3Tg9SP5sqflv4vKG/DDEt2TWbrj8oj7srxzKzv+bjZWrOKqG/W5pzl7naYT8ml8DEcJqOP6HMQkgXkJS/0Dln+vcLrL+96M1OVYq8Py/R2TUFVcE/RzU2+vmOmz8BxJoYXm22P0lANGPapMU/hOtTmZvUjz9c5YKFVXCRv/E8PMKcTtE/kE0Wf29xjT/7hLOAnG/TPyh9ki+EJME/wDrGOnqjxD/IYX/XzJnXPwAAAAAAAPA/qzIai9Bk0j8rPN4rbIinv8Th3P8dhIa/i4IHiByflr/+40OmjxFGv6x1AbyghKO/j93xkXiOoD+m6WNot/SRv+KTTlCOg5c/NoTqbmZ3d7/xNYl0GXCsP/OU1CKA+62/UgjwO/7upj/EZe4n+kmlP/r0Q2OzzoQ/PqKSZXNpqr8nZfs6jVagP1b8o5uJ46m/BRc4ZuVxsb+j9uvXhKvCP5P40IlicLE/vqejb6BNyz+KdiLVSgWiPz0cco8hbNk/NfzKKv+vtj9OvTtXLiOgP8imKLmveKs/5KXOv3s0wz8HZjZVS2OzP5ES2Fa4WcY/rwTZm7IDxD/bEAjZptbIP6syGovQZNI/AAAAAAAA8D9859tr6ASpv5e5U2yzraW/6QOSxFRUsT/vCWnTmEqav3QmLDoYeba/PTGs9qHokb8kwnpyMDavv4JxU+xR8pA/Q2+EfhdcsD9M7O8B16azP9o9SeSMzaO/RA9VoY5Nob8voMiIAh6iv7ziZT5hdpE/QT1tRMEQr7+XvlQjO6+rv7ZZH/QE/Jc/5N+bzr4pqD/kxPqn+N+KvwWIhhjR7I6//JRHMK6uqr86QXYrKh+mvyCt+/TOMaE/1tDxrQ7Ijr+bw3CWALiuP2xzn6uo6Ki/+kYAjnZdcT/Sq4ObFHWRv1AriD5Xr6i/Xr1GloYqpb/A/liuMcK0vys83itsiKe/fOfba+gEqb8AAAAAAADwP6wgzFNI38Y/m1VpyJZKzj8/t6iavOK+P8Z9QgrhwsA/lrtlags4rb8gbyiY1VbIP+Mlqf62HJy/4h0yrgCutj+/T/QiuhqbP8WOLlG0qpg/C8HG5/sEw79h/HKiC4PAP/t7xLGqcS8/WzgzsbtrsD+7GzE6rspwP2Ll0OMmn80/9bcLzt8e1T+Z/W5SwxfFv6da/piMTM2/u+ro4vQkqb8uflMT7EmyP6mbP2vaCLm/BScCjm1Xxz8UCMpYPLXMP8bxx6SAZLy/wNT1wJVdjb86sbSG4unBv+BgXgzoiLO/exanB/racL/lGvCaH7bCv8Th3P8dhIa/l7lTbLOtpb+sIMxTSN/GPwAAAAAAAPA/Ly2NeHgw1j+S2waSX/c7vyAJYwd1tNG/QQncI7Pfsz9i7cHWIQKsP17gTij0jrM/+UJkyH7wrD/334V86fW1P4vZhVn4U7s/vkr0yEtCpb/x3Ni/9ivCPzeBcZ7Bias/kUtjfSPKeT9G6udukshBvzsUZslRK68/V2L0oNKezz+VHahnJI+9v8d74M/Q8si/uhab1U+bwL8Vutea9ZWnP9FCZmDr2qe/IOgJX9npvz8pmC9IVUXMP/9LH0/qDrm/1P+B3qdXlr+dkpH/Je62v6eJ9kM1Yre/H92Ls8wjxr/bhgn/dGTGv4uCB4gcn5a/6QOSxFRUsT+bVWnIlkrOPy8tjXh4MNY/AAAAAAAA8D/HEMCf2srJPxMzmm9Suro/akqZDDtgwD8UiSUeWwnRP92Nvektc8I/kTTcd09muD8IlP1mLo6wv+FxM0s/456/8+0+hKCciT+myiIbYdSrv5Om4HJd6bg/ETDakS+epL+OkirW1pKsP96Qrb5EVpS/jmawAy6MlT+fUO1d8IS1vyKxHva0Q5K/lwLFMS3htb/306i5cduEv7qOPx1M3JO/0xWlMxVuoL9k8cOb5F6mP3DLTmMlSbi/I48hEUdEsL8mNbs9DlmPv06jt8Cd76S/kQ+AFXMZpb9AvXhuXBuhv/7jQ6aPEUa/7wlp05hKmr8/t6iavOK+P5LbBpJf9zu/xxDAn9rKyT8AAAAAAADwP/RDRtrzI9k/lsH1sqOIwz8zNzX4LTDSP1+9y/kSS5S/jsnrCiSTcb+ILlpcc9JhPyzpvTGJWHE//FlmFt5Lib8BdhNN0gugP2XOItClhIy/yvqlnW77mj858MyprDacP9UdHIKBgnI/21A0n32YsT/EByuMnc+avxswEr2M0sA/p8oFableoT8rw3XL76CaP4ecmtDmhq8/37rOLVTgrr+ll0khqVSVv3lG7Jkt37i/8YBeyVzLUr8E4LWHNdarP50gX3jP+p0/IIByQBmidj/3SgBpgEOCP6x1AbyghKO/dCYsOhh5tr/GfUIK4cLAPyAJYwd1tNG/EzOab1K6uj/0Q0ba8yPZPwAAAAAAAPA/Bx5Ui+4EnT+JPnI9/mzQP1BoV/ebMrG/lKSZZSYdsT9chCuTdGqwv0OxqEgaVrW/ozk8KOxka78S4FJZWCmNv3uy93jgz4g/kRNpDOECnr/5Ik0qSS6Cv3wn/9tP0KU/a78f7L/QfT82wtBEH/bIv5XipRK8DcG/N0NnwKj9mz9dHugxsgKgPxnKmgYkY6c/LvhSvJOBu78qwL3eJfaVv0+Q4YBxL8C/1A6h6EZUtb/E/c6+GYe3v3BFPF9VMJm/UyLPBUM/pD+5fkX/1oSpv4/d8ZF4jqA/PTGs9qHokb+Wu2VqCzitv0EJ3COz37M/akqZDDtgwD+WwfWyo4jDPwceVIvuBJ0/AAAAAAAA8D9EVrqvgSO8PyBKAiDWJbk/3e3pSHjktj+lRKKWLqSxv4bve86Ar6k/0MtnhGomkD/K8RaWoGqbP5ElRHhIz3Q/lqykrs33pb9rgRRYOgSRv/NWzwbaUYC/VBePUT7xtj9LFd1guzu3v0/mnyrlA46/Fdl0uITHqL90ax5NKaWtP2jdS771rGA/p8FhCYD6kT+grtlQQxTAPzafgZ+gY8G/bpiOiKNbt7/J06/wadC1v0JwzzwkULW/+WouFlmJur+ZnQtQA9evv6bpY2i39JG/JMJ6cjA2r78gbyiY1VbIP2LtwdYhAqw/FIklHlsJ0T8zNzX4LTDSP4k+cj3+bNA/RFa6r4EjvD8AAAAAAADwPx2wHe3jF5+/adNkq6TwsD+AubXQBHOvv9FAU48xmr4/LHx1AmWbpT8RrygtVcacv7nb5nYCS4q/eRF6OmdVlr99tx+whyGjP8fpXtghWZS/8ypUvxvDvT8NaoySdFNxv2XS6OUBgpA/aZnsOe3Jo7/1sqUgSEXBP96oAbeW/rK/H/4GbeXtqj+fnW5MQSG4P7MR2qC5Poy/9OyyQAm9gb/BNWqocy+gv/2+EsxHIZA/zJEBrtsbqr/ZncEVUgqlv+KTTlCOg5c/gnFT7FHykD/jJan+thycv17gTij0jrM/3Y296S1zwj9fvcv5EkuUv1BoV/ebMrG/IEoCINYluT8dsB3t4xefvwAAAAAAAPA/xgNfrOtWrz/PaysuLc2HP/CV1ltCk28/rtOdyWZniL9dZUY/IBerP3zQgJHM/a0/6I077inUsr9MTY7FxNWrvwa+etXhvKW/xhc0/h/iYj9EMkpHSQe6v7C76sxEDLK/sg4uleTCcr8QrJTxbIC8v0eONZKkJIW/Pf28rI5Npz8PmRnFlQ+YPzOh2zS6gsW/Bt7dUgMIpj93fdMm/+G2v00JzfxVI6A/JTv1HwAYsL//9wNk5GKxvzaE6m5md3e/Q2+EfhdcsD/iHTKuAK62P/lCZMh+8Kw/kTTcd09muD+OyesKJJNxv5SkmWUmHbE/3e3pSHjktj9p02SrpPCwP8YDX6zrVq8/AAAAAAAA8D/uAz8wdry4P0ceHFOa8NC/TevQFKE8gT9+gyNcFsKyPy+Nw+eb1qa/gvYtTJ+TWL8iysn4GdhHv175dYJN6Yc/8svZwWFRrD9tMRUsP5dav31uAR0xkGY/g1b7qtZulT/WuT+CDv6dv6rZohFUBJY/0GIuUE1jtj8ysqoQLM2uv0iIsJZbhqA/ix9jDhHRsj8P7XtbwRaxPzBVhSVF8rI/sj0q2Bulkz/GyvC3Tg9SP/E1iXQZcKw/TOzvAdemsz+/T/QiuhqbP/ffhXzp9bU/CJT9Zi6OsL+ILlpcc9JhP1yEK5N0arC/pUSili6ksb+AubXQBHOvv89rKy4tzYc/7gM/MHa8uD8AAAAAAADwPx82WBde7pC/lr3+BIgtfT9Q6qm9Vd+cP4TUti7GM7C/IbNFmrn6oD/rO1pekKyBP495fFDcErQ/0ToDkC3etz/pM6FKAj6qvzVdHW1+gJe/WOO0zxg6vz+0Osa1sbKzP857NvG0uq2/tjSPYtv8db93xuNBdgCov9cpHzdRJkM/s8+eX7Riv787LOm2d7acv1/+TsQOmZC/F1u4En1dsj+bKn5b+Lyhv/OU1CKA+62/2j1J5IzNo7/Fji5RtKqYP4vZhVn4U7s/4XEzSz/jnr8s6b0xiVhxP0OxqEgaVrW/hu97zoCvqT/RQFOPMZq+P/CV1ltCk28/Rx4cU5rw0L8fNlgXXu6QvwAAAAAAAPA/",
          "dtype": "f8",
          "shape": "33, 33"
         }
        }
       ],
       "layout": {
        "coloraxis": {
         "cmax": 1,
         "cmin": -1,
         "colorscale": [
          [
           0,
           "rgb(5,48,97)"
          ],
          [
           0.1,
           "rgb(33,102,172)"
          ],
          [
           0.2,
           "rgb(67,147,195)"
          ],
          [
           0.3,
           "rgb(146,197,222)"
          ],
          [
           0.4,
           "rgb(209,229,240)"
          ],
          [
           0.5,
           "rgb(247,247,247)"
          ],
          [
           0.6,
           "rgb(253,219,199)"
          ],
          [
           0.7,
           "rgb(244,165,130)"
          ],
          [
           0.8,
           "rgb(214,96,77)"
          ],
          [
           0.9,
           "rgb(178,24,43)"
          ],
          [
           1,
           "rgb(103,0,31)"
          ]
         ]
        },
        "font": {
         "size": 14
        },
        "height": 1000,
        "margin": {
         "b": 50,
         "l": 50,
         "r": 50,
         "t": 100
        },
        "template": {
         "data": {
          "bar": [
           {
            "error_x": {
             "color": "#2a3f5f"
            },
            "error_y": {
             "color": "#2a3f5f"
            },
            "marker": {
             "line": {
              "color": "#E5ECF6",
              "width": 0.5
             },
             "pattern": {
              "fillmode": "overlay",
              "size": 10,
              "solidity": 0.2
             }
            },
            "type": "bar"
           }
          ],
          "barpolar": [
           {
            "marker": {
             "line": {
              "color": "#E5ECF6",
              "width": 0.5
             },
             "pattern": {
              "fillmode": "overlay",
              "size": 10,
              "solidity": 0.2
             }
            },
            "type": "barpolar"
           }
          ],
          "carpet": [
           {
            "aaxis": {
             "endlinecolor": "#2a3f5f",
             "gridcolor": "white",
             "linecolor": "white",
             "minorgridcolor": "white",
             "startlinecolor": "#2a3f5f"
            },
            "baxis": {
             "endlinecolor": "#2a3f5f",
             "gridcolor": "white",
             "linecolor": "white",
             "minorgridcolor": "white",
             "startlinecolor": "#2a3f5f"
            },
            "type": "carpet"
           }
          ],
          "choropleth": [
           {
            "colorbar": {
             "outlinewidth": 0,
             "ticks": ""
            },
            "type": "choropleth"
           }
          ],
          "contour": [
           {
            "colorbar": {
             "outlinewidth": 0,
             "ticks": ""
            },
            "colorscale": [
             [
              0,
              "#0d0887"
             ],
             [
              0.1111111111111111,
              "#46039f"
             ],
             [
              0.2222222222222222,
              "#7201a8"
             ],
             [
              0.3333333333333333,
              "#9c179e"
             ],
             [
              0.4444444444444444,
              "#bd3786"
             ],
             [
              0.5555555555555556,
              "#d8576b"
             ],
             [
              0.6666666666666666,
              "#ed7953"
             ],
             [
              0.7777777777777778,
              "#fb9f3a"
             ],
             [
              0.8888888888888888,
              "#fdca26"
             ],
             [
              1,
              "#f0f921"
             ]
            ],
            "type": "contour"
           }
          ],
          "contourcarpet": [
           {
            "colorbar": {
             "outlinewidth": 0,
             "ticks": ""
            },
            "type": "contourcarpet"
           }
          ],
          "heatmap": [
           {
            "colorbar": {
             "outlinewidth": 0,
             "ticks": ""
            },
            "colorscale": [
             [
              0,
              "#0d0887"
             ],
             [
              0.1111111111111111,
              "#46039f"
             ],
             [
              0.2222222222222222,
              "#7201a8"
             ],
             [
              0.3333333333333333,
              "#9c179e"
             ],
             [
              0.4444444444444444,
              "#bd3786"
             ],
             [
              0.5555555555555556,
              "#d8576b"
             ],
             [
              0.6666666666666666,
              "#ed7953"
             ],
             [
              0.7777777777777778,
              "#fb9f3a"
             ],
             [
              0.8888888888888888,
              "#fdca26"
             ],
             [
              1,
              "#f0f921"
             ]
            ],
            "type": "heatmap"
           }
          ],
          "histogram": [
           {
            "marker": {
             "pattern": {
              "fillmode": "overlay",
              "size": 10,
              "solidity": 0.2
             }
            },
            "type": "histogram"
           }
          ],
          "histogram2d": [
           {
            "colorbar": {
             "outlinewidth": 0,
             "ticks": ""
            },
            "colorscale": [
             [
              0,
              "#0d0887"
             ],
             [
              0.1111111111111111,
              "#46039f"
             ],
             [
              0.2222222222222222,
              "#7201a8"
             ],
             [
              0.3333333333333333,
              "#9c179e"
             ],
             [
              0.4444444444444444,
              "#bd3786"
             ],
             [
              0.5555555555555556,
              "#d8576b"
             ],
             [
              0.6666666666666666,
              "#ed7953"
             ],
             [
              0.7777777777777778,
              "#fb9f3a"
             ],
             [
              0.8888888888888888,
              "#fdca26"
             ],
             [
              1,
              "#f0f921"
             ]
            ],
            "type": "histogram2d"
           }
          ],
          "histogram2dcontour": [
           {
            "colorbar": {
             "outlinewidth": 0,
             "ticks": ""
            },
            "colorscale": [
             [
              0,
              "#0d0887"
             ],
             [
              0.1111111111111111,
              "#46039f"
             ],
             [
              0.2222222222222222,
              "#7201a8"
             ],
             [
              0.3333333333333333,
              "#9c179e"
             ],
             [
              0.4444444444444444,
              "#bd3786"
             ],
             [
              0.5555555555555556,
              "#d8576b"
             ],
             [
              0.6666666666666666,
              "#ed7953"
             ],
             [
              0.7777777777777778,
              "#fb9f3a"
             ],
             [
              0.8888888888888888,
              "#fdca26"
             ],
             [
              1,
              "#f0f921"
             ]
            ],
            "type": "histogram2dcontour"
           }
          ],
          "mesh3d": [
           {
            "colorbar": {
             "outlinewidth": 0,
             "ticks": ""
            },
            "type": "mesh3d"
           }
          ],
          "parcoords": [
           {
            "line": {
             "colorbar": {
              "outlinewidth": 0,
              "ticks": ""
             }
            },
            "type": "parcoords"
           }
          ],
          "pie": [
           {
            "automargin": true,
            "type": "pie"
           }
          ],
          "scatter": [
           {
            "fillpattern": {
             "fillmode": "overlay",
             "size": 10,
             "solidity": 0.2
            },
            "type": "scatter"
           }
          ],
          "scatter3d": [
           {
            "line": {
             "colorbar": {
              "outlinewidth": 0,
              "ticks": ""
             }
            },
            "marker": {
             "colorbar": {
              "outlinewidth": 0,
              "ticks": ""
             }
            },
            "type": "scatter3d"
           }
          ],
          "scattercarpet": [
           {
            "marker": {
             "colorbar": {
              "outlinewidth": 0,
              "ticks": ""
             }
            },
            "type": "scattercarpet"
           }
          ],
          "scattergeo": [
           {
            "marker": {
             "colorbar": {
              "outlinewidth": 0,
              "ticks": ""
             }
            },
            "type": "scattergeo"
           }
          ],
          "scattergl": [
           {
            "marker": {
             "colorbar": {
              "outlinewidth": 0,
              "ticks": ""
             }
            },
            "type": "scattergl"
           }
          ],
          "scattermap": [
           {
            "marker": {
             "colorbar": {
              "outlinewidth": 0,
              "ticks": ""
             }
            },
            "type": "scattermap"
           }
          ],
          "scattermapbox": [
           {
            "marker": {
             "colorbar": {
              "outlinewidth": 0,
              "ticks": ""
             }
            },
            "type": "scattermapbox"
           }
          ],
          "scatterpolar": [
           {
            "marker": {
             "colorbar": {
              "outlinewidth": 0,
              "ticks": ""
             }
            },
            "type": "scatterpolar"
           }
          ],
          "scatterpolargl": [
           {
            "marker": {
             "colorbar": {
              "outlinewidth": 0,
              "ticks": ""
             }
            },
            "type": "scatterpolargl"
           }
          ],
          "scatterternary": [
           {
            "marker": {
             "colorbar": {
              "outlinewidth": 0,
              "ticks": ""
             }
            },
            "type": "scatterternary"
           }
          ],
          "surface": [
           {
            "colorbar": {
             "outlinewidth": 0,
             "ticks": ""
            },
            "colorscale": [
             [
              0,
              "#0d0887"
             ],
             [
              0.1111111111111111,
              "#46039f"
             ],
             [
              0.2222222222222222,
              "#7201a8"
             ],
             [
              0.3333333333333333,
              "#9c179e"
             ],
             [
              0.4444444444444444,
              "#bd3786"
             ],
             [
              0.5555555555555556,
              "#d8576b"
             ],
             [
              0.6666666666666666,
              "#ed7953"
             ],
             [
              0.7777777777777778,
              "#fb9f3a"
             ],
             [
              0.8888888888888888,
              "#fdca26"
             ],
             [
              1,
              "#f0f921"
             ]
            ],
            "type": "surface"
           }
          ],
          "table": [
           {
            "cells": {
             "fill": {
              "color": "#EBF0F8"
             },
             "line": {
              "color": "white"
             }
            },
            "header": {
             "fill": {
              "color": "#C8D4E3"
             },
             "line": {
              "color": "white"
             }
            },
            "type": "table"
           }
          ]
         },
         "layout": {
          "annotationdefaults": {
           "arrowcolor": "#2a3f5f",
           "arrowhead": 0,
           "arrowwidth": 1
          },
          "autotypenumbers": "strict",
          "coloraxis": {
           "colorbar": {
            "outlinewidth": 0,
            "ticks": ""
           }
          },
          "colorscale": {
           "diverging": [
            [
             0,
             "#8e0152"
            ],
            [
             0.1,
             "#c51b7d"
            ],
            [
             0.2,
             "#de77ae"
            ],
            [
             0.3,
             "#f1b6da"
            ],
            [
             0.4,
             "#fde0ef"
            ],
            [
             0.5,
             "#f7f7f7"
            ],
            [
             0.6,
             "#e6f5d0"
            ],
            [
             0.7,
             "#b8e186"
            ],
            [
             0.8,
             "#7fbc41"
            ],
            [
             0.9,
             "#4d9221"
            ],
            [
             1,
             "#276419"
            ]
           ],
           "sequential": [
            [
             0,
             "#0d0887"
            ],
            [
             0.1111111111111111,
             "#46039f"
            ],
            [
             0.2222222222222222,
             "#7201a8"
            ],
            [
             0.3333333333333333,
             "#9c179e"
            ],
            [
             0.4444444444444444,
             "#bd3786"
            ],
            [
             0.5555555555555556,
             "#d8576b"
            ],
            [
             0.6666666666666666,
             "#ed7953"
            ],
            [
             0.7777777777777778,
             "#fb9f3a"
            ],
            [
             0.8888888888888888,
             "#fdca26"
            ],
            [
             1,
             "#f0f921"
            ]
           ],
           "sequentialminus": [
            [
             0,
             "#0d0887"
            ],
            [
             0.1111111111111111,
             "#46039f"
            ],
            [
             0.2222222222222222,
             "#7201a8"
            ],
            [
             0.3333333333333333,
             "#9c179e"
            ],
            [
             0.4444444444444444,
             "#bd3786"
            ],
            [
             0.5555555555555556,
             "#d8576b"
            ],
            [
             0.6666666666666666,
             "#ed7953"
            ],
            [
             0.7777777777777778,
             "#fb9f3a"
            ],
            [
             0.8888888888888888,
             "#fdca26"
            ],
            [
             1,
             "#f0f921"
            ]
           ]
          },
          "colorway": [
           "#636efa",
           "#EF553B",
           "#00cc96",
           "#ab63fa",
           "#FFA15A",
           "#19d3f3",
           "#FF6692",
           "#B6E880",
           "#FF97FF",
           "#FECB52"
          ],
          "font": {
           "color": "#2a3f5f"
          },
          "geo": {
           "bgcolor": "white",
           "lakecolor": "white",
           "landcolor": "#E5ECF6",
           "showlakes": true,
           "showland": true,
           "subunitcolor": "white"
          },
          "hoverlabel": {
           "align": "left"
          },
          "hovermode": "closest",
          "mapbox": {
           "style": "light"
          },
          "paper_bgcolor": "white",
          "plot_bgcolor": "#E5ECF6",
          "polar": {
           "angularaxis": {
            "gridcolor": "white",
            "linecolor": "white",
            "ticks": ""
           },
           "bgcolor": "#E5ECF6",
           "radialaxis": {
            "gridcolor": "white",
            "linecolor": "white",
            "ticks": ""
           }
          },
          "scene": {
           "xaxis": {
            "backgroundcolor": "#E5ECF6",
            "gridcolor": "white",
            "gridwidth": 2,
            "linecolor": "white",
            "showbackground": true,
            "ticks": "",
            "zerolinecolor": "white"
           },
           "yaxis": {
            "backgroundcolor": "#E5ECF6",
            "gridcolor": "white",
            "gridwidth": 2,
            "linecolor": "white",
            "showbackground": true,
            "ticks": "",
            "zerolinecolor": "white"
           },
           "zaxis": {
            "backgroundcolor": "#E5ECF6",
            "gridcolor": "white",
            "gridwidth": 2,
            "linecolor": "white",
            "showbackground": true,
            "ticks": "",
            "zerolinecolor": "white"
           }
          },
          "shapedefaults": {
           "line": {
            "color": "#2a3f5f"
           }
          },
          "ternary": {
           "aaxis": {
            "gridcolor": "white",
            "linecolor": "white",
            "ticks": ""
           },
           "baxis": {
            "gridcolor": "white",
            "linecolor": "white",
            "ticks": ""
           },
           "bgcolor": "#E5ECF6",
           "caxis": {
            "gridcolor": "white",
            "linecolor": "white",
            "ticks": ""
           }
          },
          "title": {
           "x": 0.05
          },
          "xaxis": {
           "automargin": true,
           "gridcolor": "white",
           "linecolor": "white",
           "ticks": "",
           "title": {
            "standoff": 15
           },
           "zerolinecolor": "white",
           "zerolinewidth": 2
          },
          "yaxis": {
           "automargin": true,
           "gridcolor": "white",
           "linecolor": "white",
           "ticks": "",
           "title": {
            "standoff": 15
           },
           "zerolinecolor": "white",
           "zerolinewidth": 2
          }
         }
        },
        "title": {
         "text": "Матрица корреляций признаков, связанных с основным видом транспорта (KHVM)",
         "x": 0.5
        },
        "width": 1000,
        "xaxis": {
         "anchor": "y",
         "constrain": "domain",
         "domain": [
          0,
          1
         ],
         "scaleanchor": "y"
        },
        "yaxis": {
         "anchor": "x",
         "autorange": "reversed",
         "constrain": "domain",
         "domain": [
          0,
          1
         ]
        }
       }
      }
     },
     "metadata": {},
     "output_type": "display_data"
    }
   ],
   "source": [
    "# Отфильтруем нужные столбцы\n",
    "columns_of_interest = [\n",
    "    'KHVM', 'AANTVPL', 'KAFSTV', 'KMOTIEF', 'TOER', 'ROLAUTO', 'OORDEEL_AUTO', 'OORDEEL_TREIN', 'OORDEEL_BTM', 'OORDEEL_FIETS', 'OORDEEL_BROMMER', 'OORDEEL_LOPEN',\n",
    "    'GEBRUIK_AUTO_STELLING3', 'GEBRUIK_AUTO_STELLING4',\n",
    "    'GEBRUIK_TREIN_STELLING3', 'GEBRUIK_TREIN_STELLING4',\n",
    "    'GEBRUIK_BTM_STELLING3', 'GEBRUIK_BTM_STELLING4',\n",
    "    'GEBRUIK_FIETS_STELLING2', 'GEBRUIK_FIETS_STELLING3',\n",
    "    'GEBRUIK_LOPEN_STELLING3', 'GEBRUIK_LOPEN_STELLING4',\n",
    "    'HHBRUTOINK2_w5', 'HHAUTO', 'HHPERS', 'HHBESTEL', \n",
    "    'HHHYBRID', 'HHMOTOR', 'HHBROM', 'HHSNOR',\n",
    "    'HHFIETS', 'HHVOUWFIETS', 'HHEBIKE'\n",
    "]\n",
    "\n",
    "df_corr = df[columns_of_interest]\n",
    "corr_matrix = df_corr.corr()\n",
    "\n",
    "\n",
    "fig = px.imshow(\n",
    "    corr_matrix, \n",
    "    height=1000, \n",
    "    width=1000, \n",
    "    text_auto='.2f', \n",
    "    color_continuous_scale='RdBu_r',\n",
    "    zmin=-1, zmax=1\n",
    ")\n",
    "\n",
    "fig.update_layout(\n",
    "    title = {'text': 'Матрица корреляций признаков, связанных с основным видом транспорта (KHVM)', 'x': 0.5},\n",
    "    margin=dict(t=100, b=50, l=50, r=50),\n",
    "    font=dict(size=14) \n",
    ")\n",
    "\n",
    "fig.show()\n"
   ]
  },
  {
   "cell_type": "markdown",
   "id": "2833d739",
   "metadata": {},
   "source": [
    "#### Выводы:\n",
    "1. `ROLAUTO` - высокая отрицательная корреляция −0.74. Звучит логично т.к. если ROLAUTO равен 1(пассажир) или 2(водитель), то значение таргета KHVM ниже - относится к классам 1 или 2, а не 3-8.\n",
    "2. `KAFSTV` - средняя отрицательная корреляция -0,43. Так же объяснение лежит на поверхности: чем длиннее поездка (больше KAFSTV), тем больше людей выберут авто/поезд как вид транспорта (меньше KHVM).\n",
    "3. `TOER` - умеренная положительная корреляция. Интерпретация может заключаться в том, что если маршрут круговой(прогулка, поездка на велосипеде, работа) люди предпочитают использовать KHVM с большими порядковыми числами(пешком, СИД и тд)."
   ]
  },
  {
   "cell_type": "code",
   "execution_count": 8,
   "id": "fc97fb00",
   "metadata": {},
   "outputs": [
    {
     "data": {
      "image/png": "[encoded data removed]",
      "text/plain": [
       "<Figure size 1200x600 with 1 Axes>"
      ]
     },
     "metadata": {},
     "output_type": "display_data"
    }
   ],
   "source": [
    "labels = {\n",
    "    1: '1.Car as driver',\n",
    "    2: '2.Car as passenger',\n",
    "    3: '3.Train',\n",
    "    4: '4.Bus/tram/metro',\n",
    "    5: '5.Scooter/moped',\n",
    "    6: '6.Bicycle',\n",
    "    7: '7.Walking',\n",
    "    8: '8.Other'\n",
    "}\n",
    "\n",
    "# Подсчет количества измерений для каждого класса\n",
    "class_counts = df['KHVM'].value_counts().sort_index()\n",
    "\n",
    "# Построение гистограммы распределения классов KHVM\n",
    "plt.figure(figsize=(12, 6))\n",
    "sns.countplot(x=df['KHVM'], hue=df['KHVM'], palette='viridis', legend=False)\n",
    "plt.title('Распределение классов таргета KHVM')\n",
    "plt.ylabel('Количество')\n",
    "\n",
    "# Установка пользовательских меток на оси X\n",
    "plt.xticks(ticks=range(len(labels)), labels=[labels[i] for i in range(1, 9)], rotation=45, ha='right')\n",
    "\n",
    "# Добавление текста с количеством измерений над каждым столбцом\n",
    "for i, count in enumerate(class_counts):\n",
    "    plt.text(i, count, str(count), ha='center', va='bottom')\n",
    "\n",
    "plt.grid(True)\n",
    "plt.tight_layout()"
   ]
  },
  {
   "cell_type": "markdown",
   "id": "e73b515b",
   "metadata": {},
   "source": [
    "## 4. Разбиение на train/test выборки\n",
    "\n",
    "Для задачи мультиклассовой классфикации таргета `KHVM` выберем стандартное деление 70% для train-выборки и 30% для test-выборки - компромисс между качественным обучением модели и надёжной валидацией её предсказательной способности. Это деление позволяет сохранить репрезентативность всех классов, особенно при стратифицированном разбиении, что критически важно для оценки качества модели на всех категориях целевой переменной."
   ]
  },
  {
   "cell_type": "code",
   "execution_count": 9,
   "id": "8b7f2457",
   "metadata": {},
   "outputs": [
    {
     "name": "stdout",
     "output_type": "stream",
     "text": [
      "     HH_VALID P_VALID WEGGEWEEST VERTREKP AANTVPL VPLDAGNR VERPL VERPLNR TOER  \\\n",
      "0           2       3          1        1       4        2     1       3    0   \n",
      "1           2       3          1        1       2        3     1       1    0   \n",
      "2           2       3          1        1       3        3     0       3    0   \n",
      "3           2       3          1        1       4        3     1       2    0   \n",
      "4           2       3          1        1       2        2     1       2    0   \n",
      "...       ...     ...        ...      ...     ...      ...   ...     ...  ...   \n",
      "8819        2       3          1        1       3        2     1       3    0   \n",
      "8820        2       3          1        1       5        1     1       2    0   \n",
      "8821        2       3          1        1       6        1     1       2    0   \n",
      "8822        2       3          1        1       4        3     1       1    0   \n",
      "8823        2       3          1        1       4        1     1       3    0   \n",
      "\n",
      "     TOER_TYPE  ... HHAUTO HHBESTEL HHHYBRID HHMOTOR HHBROM HHSNOR HHFIETS  \\\n",
      "0            9  ...      1        0        0       0      0      0       1   \n",
      "1            9  ...      1        0        0       0      0      0       1   \n",
      "2            9  ...      1        0        0       1      0      0       1   \n",
      "3            9  ...      1        0        0       0      0      0       1   \n",
      "4            9  ...      1        0        0       0      0      0       1   \n",
      "...        ...  ...    ...      ...      ...     ...    ...    ...     ...   \n",
      "8819         9  ...      1        1        0       0      0      0       1   \n",
      "8820         9  ...      1        1        0       0      0      0       1   \n",
      "8821         9  ...      1        0        0       0      0      0       1   \n",
      "8822         9  ...      0        0        0       0      0      0       0   \n",
      "8823         9  ...      1        0        0       0      0      0       1   \n",
      "\n",
      "     HHVOUWFIETS HHEBIKE KHVM  \n",
      "0              0       0    2  \n",
      "1              0       0    1  \n",
      "2              0       0    3  \n",
      "3              0       0    2  \n",
      "4              0       1    1  \n",
      "...          ...     ...  ...  \n",
      "8819           1       1    8  \n",
      "8820           1       1    8  \n",
      "8821           0       0    8  \n",
      "8822           0       0    8  \n",
      "8823           0       0    8  \n",
      "\n",
      "[8824 rows x 52 columns]\n"
     ]
    }
   ],
   "source": [
    "target_name = 'KHVM'\n",
    "y = df[target_name]\n",
    "X = df.drop(columns=[target_name])\n",
    "\n",
    "\n",
    "# Стратифицированное деление, чтобы сохранить баланс классов\n",
    "X_train, X_test, y_train, y_test = train_test_split(\n",
    "    X, y, test_size=0.3, stratify=y\n",
    ")\n",
    "\n",
    "\n",
    "ros = RandomOverSampler(random_state=0)\n",
    "X_res, y_res = ros.fit_resample(X_train, y_train)\n",
    "\n",
    "# Объединяем обратно\n",
    "train_data = X_res.copy()\n",
    "train_data[target_name] = y_res\n",
    "\n",
    "print(train_data)\n"
   ]
  },
  {
   "cell_type": "markdown",
   "id": "09209fbe",
   "metadata": {},
   "source": [
    "## AutoML (LightAutoML)\n",
    "\n",
    "Для реализации AutoML-модели я выбрал библиотеку LAMA от братьев наших меньших из сбера.\n",
    "Далее идет описание AutoML-пайплайна:"
   ]
  },
  {
   "cell_type": "code",
   "execution_count": 16,
   "id": "35f2050b",
   "metadata": {},
   "outputs": [
    {
     "name": "stdout",
     "output_type": "stream",
     "text": [
      "[12:41:16] Stdout logging level is INFO.\n",
      "[12:41:16] Copying TaskTimer may affect the parent PipelineTimer, so copy will create new unlimited TaskTimer\n",
      "[12:41:16] Task: multiclass\n",
      "\n",
      "[12:41:16] Start automl preset with listed constraints:\n",
      "[12:41:16] - time: 1500.00 seconds\n",
      "[12:41:16] - CPU: 6 cores\n",
      "[12:41:16] - memory: 10000 GB\n",
      "\n",
      "[12:41:16] \u001b[1mTrain data shape: (8824, 52)\u001b[0m\n",
      "\n",
      "[12:41:20] Layer \u001b[1m1\u001b[0m train process start. Time left 1496.16 secs\n",
      "[12:41:20] Start fitting \u001b[1mLvl_0_Pipe_0_Mod_0_LinearL2\u001b[0m ...\n",
      "[12:41:40] Fitting \u001b[1mLvl_0_Pipe_0_Mod_0_LinearL2\u001b[0m finished. score = \u001b[1m-0.08666419964199465\u001b[0m\n",
      "[12:41:40] \u001b[1mLvl_0_Pipe_0_Mod_0_LinearL2\u001b[0m fitting and predicting completed\n",
      "[12:41:40] Time left 1475.56 secs\n",
      "\n",
      "[12:41:48] \u001b[1mSelector_LightGBM\u001b[0m fitting and predicting completed\n",
      "[12:41:48] Start fitting \u001b[1mLvl_0_Pipe_1_Mod_0_LightGBM\u001b[0m ...\n",
      "[12:42:28] Fitting \u001b[1mLvl_0_Pipe_1_Mod_0_LightGBM\u001b[0m finished. score = \u001b[1m-0.03580168463014494\u001b[0m\n",
      "[12:42:28] \u001b[1mLvl_0_Pipe_1_Mod_0_LightGBM\u001b[0m fitting and predicting completed\n",
      "[12:42:28] Start hyperparameters optimization for \u001b[1mLvl_0_Pipe_1_Mod_1_Tuned_LightGBM\u001b[0m ... Time budget is 120.32 secs\n"
     ]
    },
    {
     "name": "stderr",
     "output_type": "stream",
     "text": [
      "Optimization Progress:  12%|█▏        | 12/101 [02:03<15:19, 10.33s/it, best_trial=10, best_value=-0.0364]"
     ]
    },
    {
     "name": "stdout",
     "output_type": "stream",
     "text": [
      "[12:44:32] Hyperparameters optimization for \u001b[1mLvl_0_Pipe_1_Mod_1_Tuned_LightGBM\u001b[0m completed\n",
      "[12:44:32] Start fitting \u001b[1mLvl_0_Pipe_1_Mod_1_Tuned_LightGBM\u001b[0m ...\n"
     ]
    },
    {
     "name": "stderr",
     "output_type": "stream",
     "text": [
      "\n"
     ]
    },
    {
     "name": "stdout",
     "output_type": "stream",
     "text": [
      "[12:44:43] Fitting \u001b[1mLvl_0_Pipe_1_Mod_1_Tuned_LightGBM\u001b[0m finished. score = \u001b[1m-0.03082582833249518\u001b[0m\n",
      "[12:44:43] \u001b[1mLvl_0_Pipe_1_Mod_1_Tuned_LightGBM\u001b[0m fitting and predicting completed\n",
      "[12:44:43] Start fitting \u001b[1mLvl_0_Pipe_1_Mod_2_CatBoost\u001b[0m ...\n",
      "[12:45:55] Fitting \u001b[1mLvl_0_Pipe_1_Mod_2_CatBoost\u001b[0m finished. score = \u001b[1m-0.0329107451047566\u001b[0m\n",
      "[12:45:55] \u001b[1mLvl_0_Pipe_1_Mod_2_CatBoost\u001b[0m fitting and predicting completed\n",
      "[12:45:55] Start hyperparameters optimization for \u001b[1mLvl_0_Pipe_1_Mod_3_Tuned_CatBoost\u001b[0m ... Time budget is 300.00 secs\n"
     ]
    },
    {
     "name": "stderr",
     "output_type": "stream",
     "text": [
      "Optimization Progress:  20%|█▉        | 20/101 [05:04<20:31, 15.20s/it, best_trial=11, best_value=-0.0337]"
     ]
    },
    {
     "name": "stdout",
     "output_type": "stream",
     "text": [
      "[12:50:59] Hyperparameters optimization for \u001b[1mLvl_0_Pipe_1_Mod_3_Tuned_CatBoost\u001b[0m completed\n",
      "[12:50:59] Start fitting \u001b[1mLvl_0_Pipe_1_Mod_3_Tuned_CatBoost\u001b[0m ...\n"
     ]
    },
    {
     "name": "stderr",
     "output_type": "stream",
     "text": [
      "\n"
     ]
    },
    {
     "name": "stdout",
     "output_type": "stream",
     "text": [
      "[12:52:43] Fitting \u001b[1mLvl_0_Pipe_1_Mod_3_Tuned_CatBoost\u001b[0m finished. score = \u001b[1m-0.030147051264820944\u001b[0m\n",
      "[12:52:43] \u001b[1mLvl_0_Pipe_1_Mod_3_Tuned_CatBoost\u001b[0m fitting and predicting completed\n",
      "[12:52:43] Time left 813.20 secs\n",
      "\n",
      "[12:52:43] \u001b[1mLayer 1 training completed.\u001b[0m\n",
      "\n",
      "[12:52:43] Layer \u001b[1m2\u001b[0m train process start. Time left 813.19 secs\n",
      "[12:52:43] Start fitting \u001b[1mLvl_1_Pipe_0_Mod_0_LinearL2\u001b[0m ...\n",
      "[12:52:52] Fitting \u001b[1mLvl_1_Pipe_0_Mod_0_LinearL2\u001b[0m finished. score = \u001b[1m-0.039803680325852395\u001b[0m\n",
      "[12:52:52] \u001b[1mLvl_1_Pipe_0_Mod_0_LinearL2\u001b[0m fitting and predicting completed\n",
      "[12:52:52] Time left 803.89 secs\n",
      "\n",
      "[12:52:52] Start fitting \u001b[1mLvl_1_Pipe_1_Mod_0_LightGBM\u001b[0m ...\n",
      "[12:53:34] Fitting \u001b[1mLvl_1_Pipe_1_Mod_0_LightGBM\u001b[0m finished. score = \u001b[1m-0.03580168463014494\u001b[0m\n",
      "[12:53:34] \u001b[1mLvl_1_Pipe_1_Mod_0_LightGBM\u001b[0m fitting and predicting completed\n",
      "[12:53:34] Time left 762.08 secs\n",
      "\n",
      "[12:53:34] \u001b[1mLayer 2 training completed.\u001b[0m\n",
      "\n",
      "[12:53:34] Blending: optimization starts with equal weights. Score = \u001b[1m-0.0351010\u001b[0m\n",
      "[12:53:34] Blending: iteration \u001b[1m0\u001b[0m: score = \u001b[1m-0.0349680\u001b[0m, weights = \u001b[1m[0.3554407 0.6445593]\u001b[0m\n",
      "[12:53:34] Blending: no improvements for score. Terminated.\n",
      "\n",
      "[12:53:34] Blending: best score = \u001b[1m-0.0349680\u001b[0m, best weights = \u001b[1m[0.3554407 0.6445593]\u001b[0m\n",
      "[12:53:34] \u001b[1mAutoml preset training completed in 738.01 seconds\u001b[0m\n",
      "\n",
      "[12:53:34] Model description:\n",
      "Models on level 0:\n",
      "\t 5 averaged models Lvl_0_Pipe_0_Mod_0_LinearL2\n",
      "\t 5 averaged models Lvl_0_Pipe_1_Mod_0_LightGBM\n",
      "\t 5 averaged models Lvl_0_Pipe_1_Mod_1_Tuned_LightGBM\n",
      "\t 5 averaged models Lvl_0_Pipe_1_Mod_2_CatBoost\n",
      "\t 5 averaged models Lvl_0_Pipe_1_Mod_3_Tuned_CatBoost\n",
      "\n",
      "Final prediction for new objects (level 1) = \n",
      "\t 0.35544 * (5 averaged models Lvl_1_Pipe_0_Mod_0_LinearL2) +\n",
      "\t 0.64456 * (5 averaged models Lvl_1_Pipe_1_Mod_0_LightGBM) \n",
      "\n",
      "⏱ Обучение заняло: 738.01 секунд\n",
      "✅ Модель сохранена в 'automl_khvm_model.joblib'\n"
     ]
    }
   ],
   "source": [
    "categorical_columns = list(train_data.select_dtypes(include=['category']).columns)\n",
    "\n",
    "task = Task('multiclass', metric='crossentropy')\n",
    "\n",
    "roles = {\n",
    "    'target': 'KHVM'\n",
    "}\n",
    "\n",
    "automl = TabularAutoML(\n",
    "    task=task,\n",
    "    timeout=1500,\n",
    "    cpu_limit=6,\n",
    "    memory_limit=10000,\n",
    "    reader_params={\n",
    "        'n_jobs': 4,\n",
    "        'cv': 5\n",
    "    },\n",
    "    lgb_params={\n",
    "        'default_params': {\n",
    "            'metric': 'multi_logloss',\n",
    "        }\n",
    "    },\n",
    "    tuning_params={\n",
    "        'max_iters': 20,\n",
    "    }\n",
    ")\n",
    "\n",
    "start = time.time()\n",
    "oof_preds = automl.fit_predict(train_data, roles=roles, verbose=1)\n",
    "print(\"⏱ Обучение заняло:\", round(time.time() - start, 2), \"секунд\")\n",
    "\n",
    "joblib.dump(automl, \"automl_khvm_model.joblib\")\n",
    "print(\"✅ Модель сохранена в 'automl_khvm_model.joblib'\")\n"
   ]
  },
  {
   "cell_type": "markdown",
   "id": "8e3dc45d",
   "metadata": {},
   "source": [
    "Далее тестируем модель и расчитываем метрики"
   ]
  },
  {
   "cell_type": "code",
   "execution_count": 10,
   "id": "3fa3843a",
   "metadata": {},
   "outputs": [
    {
     "name": "stdout",
     "output_type": "stream",
     "text": [
      "\n",
      "📊 Основные метрики:\n",
      "Accuracy:      0.9637\n",
      "F1 Macro:      0.9627\n",
      "F1 Weighted:   0.9637\n",
      "Log Loss:      0.1073\n",
      "\n",
      "🧩 Матрица ошибок:\n",
      "[[473   0   0   0   0   0   0   0]\n",
      " [  0 109   0   0   0   0   0   0]\n",
      " [  0   0 199   0   0   0   0   0]\n",
      " [  0   0   0 217   0   0   0   0]\n",
      " [  0   0   0   0  29   2   0   0]\n",
      " [  0   0   0   0   0 342  23   2]\n",
      " [  0   0   0   0   0  29 234   0]\n",
      " [  0   0   0   0   0   6   0  45]]\n",
      "\n",
      "📝 Классификационный отчёт:\n",
      "              precision    recall  f1-score   support\n",
      "\n",
      "           1       1.00      1.00      1.00       473\n",
      "           2       1.00      1.00      1.00       109\n",
      "           3       1.00      1.00      1.00       199\n",
      "           4       1.00      1.00      1.00       217\n",
      "           5       1.00      0.94      0.97        31\n",
      "           6       0.90      0.93      0.92       367\n",
      "           7       0.91      0.89      0.90       263\n",
      "           8       0.96      0.88      0.92        51\n",
      "\n",
      "    accuracy                           0.96      1710\n",
      "   macro avg       0.97      0.95      0.96      1710\n",
      "weighted avg       0.96      0.96      0.96      1710\n",
      "\n"
     ]
    }
   ],
   "source": [
    "automl = joblib.load(\"automl_khvm_model.joblib\")\n",
    "# Предсказания\n",
    "X_test_clean = X_test.copy()\n",
    "test_preds = automl.predict(X_test_clean)\n",
    "\n",
    "# Получаем метки классов в правильном порядке\n",
    "class_labels = np.array(test_preds.features)  # список меток классов\n",
    "\n",
    "# Обработка предсказаний\n",
    "y_proba = test_preds.data  # вероятности\n",
    "y_pred_idx = y_proba.argmax(axis=1)  # индексы наиболее вероятных классов\n",
    "y_pred = class_labels[y_pred_idx]    # индексы → реальные метки\n",
    "\n",
    "# Приводим y_true к тому же типу\n",
    "y_true = y_test.astype(class_labels.dtype)\n",
    "\n",
    "# Метрики\n",
    "print(\"\\n📊 Основные метрики:\")\n",
    "print(f\"Accuracy:      {accuracy_score(y_true, y_pred):.4f}\")\n",
    "print(f\"F1 Macro:      {f1_score(y_true, y_pred, average='macro'):.4f}\")\n",
    "print(f\"F1 Weighted:   {f1_score(y_true, y_pred, average='weighted'):.4f}\")\n",
    "print(f\"Log Loss:      {log_loss(y_true, y_proba, labels=class_labels):.4f}\")\n",
    "\n",
    "print(\"\\n🧩 Матрица ошибок:\")\n",
    "print(confusion_matrix(y_true, y_pred, labels=class_labels))\n",
    "\n",
    "print(\"\\n📝 Классификационный отчёт:\")\n",
    "print(classification_report(y_true, y_pred, labels=class_labels))\n"
   ]
  },
  {
   "cell_type": "code",
   "execution_count": 13,
   "id": "086b920a",
   "metadata": {},
   "outputs": [
    {
     "data": {
      "image/png": "[encoded data removed]",
      "text/plain": [
       "<Figure size 1000x800 with 1 Axes>"
      ]
     },
     "metadata": {},
     "output_type": "display_data"
    }
   ],
   "source": [
    "y_scores_np = test_preds.data if hasattr(test_preds, \"data\") else test_preds\n",
    "\n",
    "# Преобразуем истинные метки в one-hot (для OvR)\n",
    "y_true_bin = label_binarize(y_true, classes=np.unique(y_true))\n",
    "n_classes = y_true_bin.shape[1]\n",
    "\n",
    "plt.figure(figsize=(10, 8))\n",
    "for i in range(n_classes):\n",
    "    precision, recall, _ = precision_recall_curve(y_true_bin[:, i], y_scores_np[:, i])\n",
    "    pr_auc = auc(recall, precision)\n",
    "    plt.plot(recall, precision, lw=2, label=f'Класс {i} (PR-AUC={pr_auc:.2f})')\n",
    "\n",
    "plt.xlabel(\"Recall\")\n",
    "plt.ylabel(\"Precision\")\n",
    "plt.title(\"Precision-Recall Curve (OvR)\")\n",
    "plt.legend()\n",
    "plt.grid()\n",
    "plt.show()\n"
   ]
  },
  {
   "cell_type": "code",
   "execution_count": null,
   "id": "d410efeb",
   "metadata": {},
   "outputs": [],
   "source": []
  }
 ],
 "metadata": {
  "kernelspec": {
   "display_name": ".venv",
   "language": "python",
   "name": "python3"
  },
  "language_info": {
   "codemirror_mode": {
    "name": "ipython",
    "version": 3
   },
   "file_extension": ".py",
   "mimetype": "text/x-python",
   "name": "python",
   "nbconvert_exporter": "python",
   "pygments_lexer": "ipython3",
   "version": "3.12.2"
  }
 },
 "nbformat": 4,
 "nbformat_minor": 5
}
